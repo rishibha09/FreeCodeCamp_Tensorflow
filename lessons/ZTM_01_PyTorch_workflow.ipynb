{
  "nbformat": 4,
  "nbformat_minor": 0,
  "metadata": {
    "colab": {
      "provenance": [],
      "gpuType": "T4"
    },
    "kernelspec": {
      "name": "python3",
      "display_name": "Python 3"
    },
    "language_info": {
      "name": "python"
    },
    "accelerator": "GPU"
  },
  "cells": [
    {
      "cell_type": "markdown",
      "source": [
        "# PyTorch Workflow\n",
        "\n",
        "Explore an end-to-end PyTorch workflow"
      ],
      "metadata": {
        "id": "6LQZA_lRVmPl"
      }
    },
    {
      "cell_type": "code",
      "source": [
        "whats_covered = {1: \"data(prepare and load)\",\n",
        "                 2: \"build model\",\n",
        "                 3: \"fitting the model to data (training)\",\n",
        "                 4: \"making predictions and evaluating the model (inference)\",\n",
        "                 5: \"saving and loading the model\",\n",
        "                 6: \"putting it all together\"}"
      ],
      "metadata": {
        "id": "ZylDoaIvXyVS"
      },
      "execution_count": 66,
      "outputs": []
    },
    {
      "cell_type": "code",
      "source": [
        "import torch\n",
        "from torch import nn #nn contains all of pytorch building blocks for nn\n",
        "import matplotlib.pyplot as plt\n",
        "\n",
        "torch.__version__"
      ],
      "metadata": {
        "colab": {
          "base_uri": "https://localhost:8080/",
          "height": 35
        },
        "id": "sSInftjGYJGO",
        "outputId": "7d370ae5-272d-405e-bc0a-85f299e06f66"
      },
      "execution_count": 67,
      "outputs": [
        {
          "output_type": "execute_result",
          "data": {
            "text/plain": [
              "'2.2.1+cu121'"
            ],
            "application/vnd.google.colaboratory.intrinsic+json": {
              "type": "string"
            }
          },
          "metadata": {},
          "execution_count": 67
        }
      ]
    },
    {
      "cell_type": "markdown",
      "source": [
        "## 1. Data (preparing and loading)\n",
        "\n",
        "Data can be almost anything in ML\n",
        "\n",
        "* Excel spreadhseets (rows,columns)\n",
        "* Images of any kind\n",
        "* Videos (youtube has lots of data)\n",
        "* Audio like songs and podcasts\n",
        "* DNA\n",
        "* text\n",
        "\n",
        "MAchine learning is a game of two parts:\n",
        "\n",
        "1. Get data into a numerical representation.\n",
        "2. Build a model to find patterns in that numerical representation.\n",
        "\n",
        "To showcase this, let's create some *known* data using Linear regression formula.\n",
        "\n",
        "We will use a linear regression formula to make a straight line with *known* **parameters**.\n",
        "\n"
      ],
      "metadata": {
        "id": "TYDm2M0MYkb8"
      }
    },
    {
      "cell_type": "code",
      "source": [
        "## We will start with a data creation (where we KNOW the parameteres)!\n",
        "## once we get our X and y, we will try to build a ML model which will learn the\n",
        "## known parameters by itself!\n",
        "\n",
        "#Create known parameters\n",
        "\n",
        "weight = 0.7\n",
        "bias = 0.3\n",
        "\n",
        "#Create some data\n",
        "\n",
        "start = 0\n",
        "end = 1\n",
        "step =0.02\n",
        "\n",
        "X = torch.arange(start, end, step).unsqueeze(dim=1) #X is a tensor eventually #unsqueezed adds an extra dimension\n",
        "y = weight* X + bias\n",
        "\n",
        "X[:10], y[:10]\n"
      ],
      "metadata": {
        "colab": {
          "base_uri": "https://localhost:8080/"
        },
        "id": "X8Ui1PySYrCz",
        "outputId": "a61a2234-1704-40f0-deab-b21a4879d32b"
      },
      "execution_count": 68,
      "outputs": [
        {
          "output_type": "execute_result",
          "data": {
            "text/plain": [
              "(tensor([[0.0000],\n",
              "         [0.0200],\n",
              "         [0.0400],\n",
              "         [0.0600],\n",
              "         [0.0800],\n",
              "         [0.1000],\n",
              "         [0.1200],\n",
              "         [0.1400],\n",
              "         [0.1600],\n",
              "         [0.1800]]),\n",
              " tensor([[0.3000],\n",
              "         [0.3140],\n",
              "         [0.3280],\n",
              "         [0.3420],\n",
              "         [0.3560],\n",
              "         [0.3700],\n",
              "         [0.3840],\n",
              "         [0.3980],\n",
              "         [0.4120],\n",
              "         [0.4260]]))"
            ]
          },
          "metadata": {},
          "execution_count": 68
        }
      ]
    },
    {
      "cell_type": "code",
      "source": [
        "len(X), len(y)"
      ],
      "metadata": {
        "colab": {
          "base_uri": "https://localhost:8080/"
        },
        "id": "mt5_YfBpalMP",
        "outputId": "7619add2-f9e5-4f0c-d414-19b6b8ac544a"
      },
      "execution_count": 69,
      "outputs": [
        {
          "output_type": "execute_result",
          "data": {
            "text/plain": [
              "(50, 50)"
            ]
          },
          "metadata": {},
          "execution_count": 69
        }
      ]
    },
    {
      "cell_type": "markdown",
      "source": [
        "### Splitting data into training and test sets\n",
        "\n",
        "Generalization: the ability of an ML model to perform well on data it hasn't seen before\n",
        "\n",
        "Training set (~ 60-80%)\n",
        "Validation set (~ 10-20%) [OPTIONAL]\n",
        "Testing set (~ 10-20%)"
      ],
      "metadata": {
        "id": "5J_8_r1WaoO7"
      }
    },
    {
      "cell_type": "code",
      "source": [
        "#create a train test split\n",
        "train_split = int(0.8 * len(X))\n",
        "X_train, y_train = X[:train_split], y[:train_split]\n",
        "X_test, y_test = X[train_split:], y[train_split:]\n",
        "\n",
        "len(X_train),len(y_train),len(X_test),len(y_test)"
      ],
      "metadata": {
        "colab": {
          "base_uri": "https://localhost:8080/"
        },
        "id": "_Vm6Y1HkbVGg",
        "outputId": "fd5a9708-95fe-4eab-dd2c-79883e98a252"
      },
      "execution_count": 70,
      "outputs": [
        {
          "output_type": "execute_result",
          "data": {
            "text/plain": [
              "(40, 40, 10, 10)"
            ]
          },
          "metadata": {},
          "execution_count": 70
        }
      ]
    },
    {
      "cell_type": "markdown",
      "source": [
        "### How might we better vizualize our data?"
      ],
      "metadata": {
        "id": "lveEKmZxc-Vr"
      }
    },
    {
      "cell_type": "code",
      "source": [
        "def plot_predictions(train_data=X_train,\n",
        "                     train_labels=y_train,\n",
        "                     test_data=X_test,\n",
        "                     test_labels=y_test,\n",
        "                     predictions=None):\n",
        "  \"\"\" Plots training and test data and compares predictions\"\"\"\n",
        "  plt.figure(figsize=(10,7))\n",
        "\n",
        "  # Plot training data in blue\n",
        "  plt.scatter(train_data, train_labels, c=\"b\", s=4, label=\"Training data\")\n",
        "\n",
        "  #Plot test data in green\n",
        "  plt.scatter(test_data, test_labels, c=\"g\", s=4, label=\"Testing data\")\n",
        "\n",
        "  #are there predictions?\n",
        "  if predictions is not None:\n",
        "    #plot the predictions if they exist\n",
        "    plt.scatter(test_data, predictions, c=\"r\", s=4, label=\"predictions\")\n",
        "\n",
        "  #show the legends\n",
        "  plt.legend(prop={\"size\": 14});"
      ],
      "metadata": {
        "id": "aRKA9mLLdRds"
      },
      "execution_count": 71,
      "outputs": []
    },
    {
      "cell_type": "code",
      "source": [
        "plot_predictions()"
      ],
      "metadata": {
        "colab": {
          "base_uri": "https://localhost:8080/",
          "height": 599
        },
        "id": "8SIA25ZyfF7U",
        "outputId": "32f72423-7d1b-4927-f6e8-d037eaf3411f"
      },
      "execution_count": 72,
      "outputs": [
        {
          "output_type": "display_data",
          "data": {
            "text/plain": [
              "<Figure size 1000x700 with 1 Axes>"
            ],
            "image/png": "[encoded data removed]"
          },
          "metadata": {}
        }
      ]
    },
    {
      "cell_type": "markdown",
      "source": [
        "## 2. Building our first PyTorch model\n",
        "\n",
        "What our model does?\n",
        "* Start with random values of weights and bias\n",
        "* Look at training data and adjust the random values to better represent (or get closer to) the ideal values(the weights and bias values we used to create the data)\n",
        "\n",
        "How does it do so?\n",
        "\n",
        "Through 2 main algorithms\n",
        "1. Gradient Descent: https://www.youtube.com/watch?v=IHZwWFHWa-w&ab_channel=3Blue1Brown\n",
        "2. Backpropagation: https://www.youtube.com/watch?v=Ilg3gGewQ5U&ab_channel=3Blue1Brown"
      ],
      "metadata": {
        "id": "WS-Ry7Gtfa0z"
      }
    },
    {
      "cell_type": "code",
      "source": [
        "# Create a linear regression model class\n",
        "##nn.Module is like lego building blocks for all models\n",
        "##randn is random numbers from a NORMAL DISTRIBUTION!\n",
        "class LinearRegressionModel(nn.Module): #almost everything in pytorch inherits from nn.Module\n",
        "  def __init__(self):\n",
        "    super().__init__()\n",
        "    self.weights = nn.Parameter(torch.randn(1, #start with a random weight value and try to adjust it to ideal weight\n",
        "                                            requires_grad=True, #can this param be updated via gradient descent?\n",
        "                                            dtype=torch.float)) #pytoch loves float32 datatype\n",
        "    self.bias = nn.Parameter(torch.randn(1,\n",
        "                                        requires_grad = True,\n",
        "                                        dtype=torch.float))\n",
        "\n",
        "  #Forward method to define the computation in the model\n",
        "  def forward(self, x: torch.Tensor) -> torch.Tensor: #\"x\" is the input data\n",
        "    return self.weights * x + self.bias #this is the linear regression formula\n",
        "\n"
      ],
      "metadata": {
        "id": "UffwZGl0fsVQ"
      },
      "execution_count": 73,
      "outputs": []
    },
    {
      "cell_type": "markdown",
      "source": [
        "### PyTorch model building essentials\n",
        "* torch.nn - contains all of the building blocks for computational graphs (a NN can be considered a computational graph)\n",
        "* torch.nn.Parameter - what parameters shuld our mdoel try and learn (often a PyTorch layer from torch.nn will set these for us)\n",
        "* torch.nn.Module - The base case for all NN modules. If you subclass it, you *need to** overwrite forward\n",
        "* torch.optim - this is where the optimizers in pytorch live, they help with gradient descent\n",
        "* def forward() - all nn.Module subclasses require you to overwrite forward. This method defines what happens in the forward computation.\n",
        "* torch.utils.data.Dataset - represents a map between key(label) and sample(features) pairs of your data. Such as images and their associated labels.\n",
        "* torch.utils.data.DataLoader - create a python iterable over a torch Dataset (allows you to iterate over your data)"
      ],
      "metadata": {
        "id": "Xeh76UWxinHc"
      }
    },
    {
      "cell_type": "markdown",
      "source": [
        "### Checking the contents of our PyTorch model\n",
        "We can check our model parameters or what's inside our model using .parameters()\n"
      ],
      "metadata": {
        "id": "UniZNhNYovyy"
      }
    },
    {
      "cell_type": "code",
      "source": [
        "# create a random seed\n",
        "torch.manual_seed(42)\n",
        "\n",
        "#create an instance of the model we created (this is a sublass of nn.Module)\n",
        "model_0 = LinearRegressionModel()\n",
        "\n",
        "#check out parameters\n",
        "model_0.parameters(), list(model_0.parameters())"
      ],
      "metadata": {
        "colab": {
          "base_uri": "https://localhost:8080/"
        },
        "id": "Y30L6zXlOCRo",
        "outputId": "0905a937-e322-4de4-83d4-a004b2a3050a"
      },
      "execution_count": 74,
      "outputs": [
        {
          "output_type": "execute_result",
          "data": {
            "text/plain": [
              "(<generator object Module.parameters at 0x7b2b96188120>,\n",
              " [Parameter containing:\n",
              "  tensor([0.3367], requires_grad=True),\n",
              "  Parameter containing:\n",
              "  tensor([0.1288], requires_grad=True)])"
            ]
          },
          "metadata": {},
          "execution_count": 74
        }
      ]
    },
    {
      "cell_type": "code",
      "source": [
        "# List named parameters\n",
        "model_0.state_dict()"
      ],
      "metadata": {
        "colab": {
          "base_uri": "https://localhost:8080/"
        },
        "id": "rzKKSxpUOPjW",
        "outputId": "b1b2ef4e-c316-48cd-99f3-36b7d963e5e1"
      },
      "execution_count": 75,
      "outputs": [
        {
          "output_type": "execute_result",
          "data": {
            "text/plain": [
              "OrderedDict([('weights', tensor([0.3367])), ('bias', tensor([0.1288]))])"
            ]
          },
          "metadata": {},
          "execution_count": 75
        }
      ]
    },
    {
      "cell_type": "code",
      "source": [
        "#our goal is to get as close to orig weight(0.7), bias(0.3)"
      ],
      "metadata": {
        "id": "kIG-OyyxPC1R"
      },
      "execution_count": 76,
      "outputs": []
    },
    {
      "cell_type": "markdown",
      "source": [
        "### Making predictions using `torch.inference_mode()`\n",
        "\n",
        "To check out model's predictive power, let's see how well it predicts `y_test` based on `x_test`.\n",
        "When we pass data through our model, it's going to run it through the `forward()` method."
      ],
      "metadata": {
        "id": "NdEaMUFNPT1v"
      }
    },
    {
      "cell_type": "code",
      "source": [
        "# make predictions with model\n",
        "#inference mode turns off the gradient tracking!!\n",
        "#(we dont need to keep track of how to update the model using inference)\n",
        "# Inference mode disables these extra things used while training, hence pytorch will keep track of less data\n",
        "#predictions will be a lot faster in inference mode, because so much data is not tracked\n",
        "with torch.inference_mode(): #this is context manager, we could also get y_preds = model_0(X_test)! (see below, it still has gradient tracking)\n",
        "  y_preds = model_0(X_test)\n",
        "\n",
        "\n",
        "#similar to inference mode, however inference_mode() is preferred\n",
        "# with torch.no_grad():\n",
        "#    y_preds = model_0(X_test)\n",
        "y_preds"
      ],
      "metadata": {
        "colab": {
          "base_uri": "https://localhost:8080/"
        },
        "id": "M7iTSfd0QH4x",
        "outputId": "2040d634-df1c-481e-9f28-5f9f71b9655c"
      },
      "execution_count": 77,
      "outputs": [
        {
          "output_type": "execute_result",
          "data": {
            "text/plain": [
              "tensor([[0.3982],\n",
              "        [0.4049],\n",
              "        [0.4116],\n",
              "        [0.4184],\n",
              "        [0.4251],\n",
              "        [0.4318],\n",
              "        [0.4386],\n",
              "        [0.4453],\n",
              "        [0.4520],\n",
              "        [0.4588]])"
            ]
          },
          "metadata": {},
          "execution_count": 77
        }
      ]
    },
    {
      "cell_type": "code",
      "source": [
        "y_preds_no_inf_mode = model_0(X_test)\n",
        "y_preds_no_inf_mode"
      ],
      "metadata": {
        "colab": {
          "base_uri": "https://localhost:8080/"
        },
        "id": "j8jxLitDRYE2",
        "outputId": "9f4e72c7-af32-43a7-f567-10d61b15bdc1"
      },
      "execution_count": 78,
      "outputs": [
        {
          "output_type": "execute_result",
          "data": {
            "text/plain": [
              "tensor([[0.3982],\n",
              "        [0.4049],\n",
              "        [0.4116],\n",
              "        [0.4184],\n",
              "        [0.4251],\n",
              "        [0.4318],\n",
              "        [0.4386],\n",
              "        [0.4453],\n",
              "        [0.4520],\n",
              "        [0.4588]], grad_fn=<AddBackward0>)"
            ]
          },
          "metadata": {},
          "execution_count": 78
        }
      ]
    },
    {
      "cell_type": "code",
      "source": [
        "plot_predictions(predictions=y_preds)"
      ],
      "metadata": {
        "colab": {
          "base_uri": "https://localhost:8080/",
          "height": 599
        },
        "id": "VKedBz-1QQb_",
        "outputId": "b9bceb73-fae6-4da4-a9a7-17b448bb7c81"
      },
      "execution_count": 79,
      "outputs": [
        {
          "output_type": "display_data",
          "data": {
            "text/plain": [
              "<Figure size 1000x700 with 1 Axes>"
            ],
            "image/png": "[encoded data removed]"
          },
          "metadata": {}
        }
      ]
    },
    {
      "cell_type": "markdown",
      "source": [
        "## 3. Train models\n",
        "\n",
        "The whole idea of training is for model to move from some unknown parameters (maybe random) to some known parameters.\n",
        "Or in other words from a poor representation of data to a better representation of data.\n",
        "\n",
        "One way to measure how poor or wrong your model predictions are is to use a loss function.\n",
        "* Note : Loss function may also be called cost function or criterion in different areas.\n",
        "\n",
        "Things we need to train:\n",
        "\n",
        "* **Loss function:** A function to measure how wrong your model's predictions are to the ideal outputs. (the lower the better!).\n",
        "* **Optimizer:** Takes into account the loss of the model and adjusts the model's parameters (eg: weights and bias) to improve the loss function.\n",
        "\n",
        "And specifically for PyTorch, we need:\n",
        "* A training loop\n",
        "* A testing loop"
      ],
      "metadata": {
        "id": "Wc0TuF1fQzVW"
      }
    },
    {
      "cell_type": "code",
      "source": [
        "#check out our model's parameters\n",
        "model_0.state_dict()"
      ],
      "metadata": {
        "colab": {
          "base_uri": "https://localhost:8080/"
        },
        "id": "aWfSl3rgX74H",
        "outputId": "5226b8ff-ae5b-476a-f4cd-6a5f7d06bba0"
      },
      "execution_count": 80,
      "outputs": [
        {
          "output_type": "execute_result",
          "data": {
            "text/plain": [
              "OrderedDict([('weights', tensor([0.3367])), ('bias', tensor([0.1288]))])"
            ]
          },
          "metadata": {},
          "execution_count": 80
        }
      ]
    },
    {
      "cell_type": "code",
      "source": [
        "# Setup a loss function\n",
        "loss_fn = nn.L1Loss() #mean absolute error(MAE) same as torch.mean(torch.abs(y_pred-y_test))\n",
        "\n",
        "# Setup an optimizer\n",
        "## we will pick SGD (stochastic(random) gradient descent)\n",
        "optimizer = torch.optim.SGD(params=model_0.parameters(), #params: the model params you would like to optimize\n",
        "                            lr=0.01) #learning rate = possibly the most important hyperparameter"
      ],
      "metadata": {
        "id": "ZZbOFOhxUPe6"
      },
      "execution_count": 81,
      "outputs": []
    },
    {
      "cell_type": "code",
      "source": [
        "loss_fn"
      ],
      "metadata": {
        "colab": {
          "base_uri": "https://localhost:8080/"
        },
        "id": "hWv9RxNAWUM3",
        "outputId": "61a083bc-cc3d-4213-dba0-0c7131816492"
      },
      "execution_count": 82,
      "outputs": [
        {
          "output_type": "execute_result",
          "data": {
            "text/plain": [
              "L1Loss()"
            ]
          },
          "metadata": {},
          "execution_count": 82
        }
      ]
    },
    {
      "cell_type": "markdown",
      "source": [
        "### Building a training loop (and a testing loop) in PyTorch\n",
        "\n",
        "Typical steps we need to create a training loop:\n",
        "0. Loop through the data and do steps 1-5\n",
        "1. Foward pass (this involves data moving through our model's `forward()` functions) [Also called forward propagation]\n",
        "2. Calculate the loss (compare forward pass predictions to ground truth labels)\n",
        "3. Optimzer zero grad\n",
        "4. Loss backward - move backwards through the network to calculate the gradients of each of the parameters of our model with respect to the loss. [**Back Propagation**]\n",
        "5. Optimizer step - use the optimizer to adjust our model's parameters to try and imporve the loss [**Gradient descent**]"
      ],
      "metadata": {
        "id": "vDGs-yMmWVBE"
      }
    },
    {
      "cell_type": "code",
      "source": [
        "torch.manual_seed(42)\n",
        "#An epoch is one loop through the data\n",
        "## this is a hyperparameter because we set it ourselves\n",
        "epochs = 200\n",
        "\n",
        "### Training\n",
        "#0.loop through the data\n",
        "for epoch in range(epochs):\n",
        "  # set the model to training mode (default state of the model)\n",
        "  #train mode in PyTorch sets all parameters that require gradients (require_grad true) to require gradients\n",
        "  model_0.train()\n",
        "  # model_0.eval() #turns off gradient tracking\n",
        "\n",
        "  #1. forward pass (calls the forward() method inside)\n",
        "  y_pred = model_0(X_train)\n",
        "\n",
        "  #2. Calculate the loss (how different are the model's predictions to the true values)\n",
        "  loss = loss_fn(y_pred, y_train)\n",
        "  print(f\"loss {loss}\")\n",
        "\n",
        "  #3. Optimizer zero grad (gradients accumulate by default, so we zero it)\n",
        "  optimizer.zero_grad()\n",
        "\n",
        "  #4. Perform back propagation on the loss with respect to the parameters of the model\n",
        "  loss.backward()\n",
        "\n",
        "  #5. Step the optimzer (perform gradient descent)\n",
        "  \"\"\"#by default hpw the optimizer changes will accumulate through the loop,\n",
        "  so we have to zero them in step 3 above for the next iteration of the loop\"\"\"\n",
        "  #check torch autograd\n",
        "  #check learning rate scheduling\n",
        "  optimizer.step()\n",
        "\n",
        "  ###Testing\n",
        "  model_0.eval()\n",
        "\n",
        "  #Print out model state_dict()\n",
        "  print(model_0.state_dict())\n"
      ],
      "metadata": {
        "colab": {
          "base_uri": "https://localhost:8080/"
        },
        "id": "WR0Q_5uZcwcC",
        "outputId": "b6bcf575-9180-4535-deb5-2cfc478e44a3"
      },
      "execution_count": 83,
      "outputs": [
        {
          "output_type": "stream",
          "name": "stdout",
          "text": [
            "loss 0.31288138031959534\n",
            "OrderedDict([('weights', tensor([0.3406])), ('bias', tensor([0.1388]))])\n",
            "loss 0.3013603389263153\n",
            "OrderedDict([('weights', tensor([0.3445])), ('bias', tensor([0.1488]))])\n",
            "loss 0.28983935713768005\n",
            "OrderedDict([('weights', tensor([0.3484])), ('bias', tensor([0.1588]))])\n",
            "loss 0.2783183455467224\n",
            "OrderedDict([('weights', tensor([0.3523])), ('bias', tensor([0.1688]))])\n",
            "loss 0.26679736375808716\n",
            "OrderedDict([('weights', tensor([0.3562])), ('bias', tensor([0.1788]))])\n",
            "loss 0.2552763521671295\n",
            "OrderedDict([('weights', tensor([0.3601])), ('bias', tensor([0.1888]))])\n",
            "loss 0.24375534057617188\n",
            "OrderedDict([('weights', tensor([0.3640])), ('bias', tensor([0.1988]))])\n",
            "loss 0.23223432898521423\n",
            "OrderedDict([('weights', tensor([0.3679])), ('bias', tensor([0.2088]))])\n",
            "loss 0.22071333229541779\n",
            "OrderedDict([('weights', tensor([0.3718])), ('bias', tensor([0.2188]))])\n",
            "loss 0.20919232070446014\n",
            "OrderedDict([('weights', tensor([0.3757])), ('bias', tensor([0.2288]))])\n",
            "loss 0.1976713240146637\n",
            "OrderedDict([('weights', tensor([0.3796])), ('bias', tensor([0.2388]))])\n",
            "loss 0.18615034222602844\n",
            "OrderedDict([('weights', tensor([0.3835])), ('bias', tensor([0.2488]))])\n",
            "loss 0.1746293306350708\n",
            "OrderedDict([('weights', tensor([0.3874])), ('bias', tensor([0.2588]))])\n",
            "loss 0.16310831904411316\n",
            "OrderedDict([('weights', tensor([0.3913])), ('bias', tensor([0.2688]))])\n",
            "loss 0.1515873372554779\n",
            "OrderedDict([('weights', tensor([0.3952])), ('bias', tensor([0.2788]))])\n",
            "loss 0.14006635546684265\n",
            "OrderedDict([('weights', tensor([0.3991])), ('bias', tensor([0.2888]))])\n",
            "loss 0.1285453587770462\n",
            "OrderedDict([('weights', tensor([0.4030])), ('bias', tensor([0.2988]))])\n",
            "loss 0.11702437698841095\n",
            "OrderedDict([('weights', tensor([0.4069])), ('bias', tensor([0.3088]))])\n",
            "loss 0.1060912236571312\n",
            "OrderedDict([('weights', tensor([0.4108])), ('bias', tensor([0.3178]))])\n",
            "loss 0.09681284427642822\n",
            "OrderedDict([('weights', tensor([0.4146])), ('bias', tensor([0.3258]))])\n",
            "loss 0.08908725529909134\n",
            "OrderedDict([('weights', tensor([0.4184])), ('bias', tensor([0.3333]))])\n",
            "loss 0.08227583020925522\n",
            "OrderedDict([('weights', tensor([0.4222])), ('bias', tensor([0.3403]))])\n",
            "loss 0.07638873159885406\n",
            "OrderedDict([('weights', tensor([0.4258])), ('bias', tensor([0.3463]))])\n",
            "loss 0.07160007208585739\n",
            "OrderedDict([('weights', tensor([0.4293])), ('bias', tensor([0.3518]))])\n",
            "loss 0.06747635453939438\n",
            "OrderedDict([('weights', tensor([0.4328])), ('bias', tensor([0.3568]))])\n",
            "loss 0.06395438313484192\n",
            "OrderedDict([('weights', tensor([0.4361])), ('bias', tensor([0.3613]))])\n",
            "loss 0.06097004935145378\n",
            "OrderedDict([('weights', tensor([0.4394])), ('bias', tensor([0.3653]))])\n",
            "loss 0.05845819041132927\n",
            "OrderedDict([('weights', tensor([0.4425])), ('bias', tensor([0.3688]))])\n",
            "loss 0.05635259300470352\n",
            "OrderedDict([('weights', tensor([0.4455])), ('bias', tensor([0.3718]))])\n",
            "loss 0.0545857772231102\n",
            "OrderedDict([('weights', tensor([0.4483])), ('bias', tensor([0.3743]))])\n",
            "loss 0.053148526698350906\n",
            "OrderedDict([('weights', tensor([0.4512])), ('bias', tensor([0.3768]))])\n",
            "loss 0.05181945487856865\n",
            "OrderedDict([('weights', tensor([0.4539])), ('bias', tensor([0.3788]))])\n",
            "loss 0.05069301277399063\n",
            "OrderedDict([('weights', tensor([0.4564])), ('bias', tensor([0.3803]))])\n",
            "loss 0.0498228520154953\n",
            "OrderedDict([('weights', tensor([0.4590])), ('bias', tensor([0.3818]))])\n",
            "loss 0.04895269125699997\n",
            "OrderedDict([('weights', tensor([0.4615])), ('bias', tensor([0.3833]))])\n",
            "loss 0.04819351062178612\n",
            "OrderedDict([('weights', tensor([0.4639])), ('bias', tensor([0.3843]))])\n",
            "loss 0.047531817108392715\n",
            "OrderedDict([('weights', tensor([0.4662])), ('bias', tensor([0.3853]))])\n",
            "loss 0.04692792519927025\n",
            "OrderedDict([('weights', tensor([0.4684])), ('bias', tensor([0.3858]))])\n",
            "loss 0.04642331600189209\n",
            "OrderedDict([('weights', tensor([0.4706])), ('bias', tensor([0.3863]))])\n",
            "loss 0.04591871052980423\n",
            "OrderedDict([('weights', tensor([0.4728])), ('bias', tensor([0.3868]))])\n",
            "loss 0.04543796554207802\n",
            "OrderedDict([('weights', tensor([0.4748])), ('bias', tensor([0.3868]))])\n",
            "loss 0.04503796249628067\n",
            "OrderedDict([('weights', tensor([0.4768])), ('bias', tensor([0.3868]))])\n",
            "loss 0.04463795945048332\n",
            "OrderedDict([('weights', tensor([0.4788])), ('bias', tensor([0.3868]))])\n",
            "loss 0.04423796385526657\n",
            "OrderedDict([('weights', tensor([0.4808])), ('bias', tensor([0.3868]))])\n",
            "loss 0.04383796453475952\n",
            "OrderedDict([('weights', tensor([0.4828])), ('bias', tensor([0.3868]))])\n",
            "loss 0.04343796148896217\n",
            "OrderedDict([('weights', tensor([0.4848])), ('bias', tensor([0.3868]))])\n",
            "loss 0.043074630200862885\n",
            "OrderedDict([('weights', tensor([0.4866])), ('bias', tensor([0.3863]))])\n",
            "loss 0.04272563382983208\n",
            "OrderedDict([('weights', tensor([0.4884])), ('bias', tensor([0.3858]))])\n",
            "loss 0.04237663000822067\n",
            "OrderedDict([('weights', tensor([0.4902])), ('bias', tensor([0.3853]))])\n",
            "loss 0.04202762991189957\n",
            "OrderedDict([('weights', tensor([0.4920])), ('bias', tensor([0.3848]))])\n",
            "loss 0.04167863354086876\n",
            "OrderedDict([('weights', tensor([0.4938])), ('bias', tensor([0.3843]))])\n",
            "loss 0.04132963344454765\n",
            "OrderedDict([('weights', tensor([0.4956])), ('bias', tensor([0.3838]))])\n",
            "loss 0.04098063334822655\n",
            "OrderedDict([('weights', tensor([0.4974])), ('bias', tensor([0.3833]))])\n",
            "loss 0.04063162952661514\n",
            "OrderedDict([('weights', tensor([0.4992])), ('bias', tensor([0.3828]))])\n",
            "loss 0.040282636880874634\n",
            "OrderedDict([('weights', tensor([0.5010])), ('bias', tensor([0.3823]))])\n",
            "loss 0.039933640509843826\n",
            "OrderedDict([('weights', tensor([0.5028])), ('bias', tensor([0.3818]))])\n",
            "loss 0.03958464413881302\n",
            "OrderedDict([('weights', tensor([0.5046])), ('bias', tensor([0.3813]))])\n",
            "loss 0.03923564404249191\n",
            "OrderedDict([('weights', tensor([0.5064])), ('bias', tensor([0.3808]))])\n",
            "loss 0.03888664394617081\n",
            "OrderedDict([('weights', tensor([0.5082])), ('bias', tensor([0.3803]))])\n",
            "loss 0.0385376438498497\n",
            "OrderedDict([('weights', tensor([0.5100])), ('bias', tensor([0.3798]))])\n",
            "loss 0.03818932920694351\n",
            "OrderedDict([('weights', tensor([0.5116])), ('bias', tensor([0.3788]))])\n",
            "loss 0.03785243630409241\n",
            "OrderedDict([('weights', tensor([0.5134])), ('bias', tensor([0.3783]))])\n",
            "loss 0.0375034399330616\n",
            "OrderedDict([('weights', tensor([0.5152])), ('bias', tensor([0.3778]))])\n",
            "loss 0.037164121866226196\n",
            "OrderedDict([('weights', tensor([0.5168])), ('bias', tensor([0.3768]))])\n",
            "loss 0.03681822493672371\n",
            "OrderedDict([('weights', tensor([0.5186])), ('bias', tensor([0.3763]))])\n",
            "loss 0.03647511452436447\n",
            "OrderedDict([('weights', tensor([0.5202])), ('bias', tensor([0.3753]))])\n",
            "loss 0.03613303601741791\n",
            "OrderedDict([('weights', tensor([0.5220])), ('bias', tensor([0.3748]))])\n",
            "loss 0.03578609973192215\n",
            "OrderedDict([('weights', tensor([0.5236])), ('bias', tensor([0.3738]))])\n",
            "loss 0.03544783592224121\n",
            "OrderedDict([('weights', tensor([0.5254])), ('bias', tensor([0.3733]))])\n",
            "loss 0.035098835825920105\n",
            "OrderedDict([('weights', tensor([0.5272])), ('bias', tensor([0.3728]))])\n",
            "loss 0.03476089984178543\n",
            "OrderedDict([('weights', tensor([0.5288])), ('bias', tensor([0.3718]))])\n",
            "loss 0.03441363573074341\n",
            "OrderedDict([('weights', tensor([0.5306])), ('bias', tensor([0.3713]))])\n",
            "loss 0.03407188132405281\n",
            "OrderedDict([('weights', tensor([0.5322])), ('bias', tensor([0.3703]))])\n",
            "loss 0.03372843936085701\n",
            "OrderedDict([('weights', tensor([0.5340])), ('bias', tensor([0.3698]))])\n",
            "loss 0.03338287025690079\n",
            "OrderedDict([('weights', tensor([0.5355])), ('bias', tensor([0.3688]))])\n",
            "loss 0.033043231815099716\n",
            "OrderedDict([('weights', tensor([0.5373])), ('bias', tensor([0.3683]))])\n",
            "loss 0.03269423171877861\n",
            "OrderedDict([('weights', tensor([0.5391])), ('bias', tensor([0.3678]))])\n",
            "loss 0.032357655465602875\n",
            "OrderedDict([('weights', tensor([0.5407])), ('bias', tensor([0.3668]))])\n",
            "loss 0.03200903534889221\n",
            "OrderedDict([('weights', tensor([0.5425])), ('bias', tensor([0.3663]))])\n",
            "loss 0.03166864812374115\n",
            "OrderedDict([('weights', tensor([0.5441])), ('bias', tensor([0.3653]))])\n",
            "loss 0.03132382780313492\n",
            "OrderedDict([('weights', tensor([0.5459])), ('bias', tensor([0.3648]))])\n",
            "loss 0.030979642644524574\n",
            "OrderedDict([('weights', tensor([0.5475])), ('bias', tensor([0.3638]))])\n",
            "loss 0.030638623982667923\n",
            "OrderedDict([('weights', tensor([0.5493])), ('bias', tensor([0.3633]))])\n",
            "loss 0.0302906334400177\n",
            "OrderedDict([('weights', tensor([0.5509])), ('bias', tensor([0.3623]))])\n",
            "loss 0.029953425750136375\n",
            "OrderedDict([('weights', tensor([0.5527])), ('bias', tensor([0.3618]))])\n",
            "loss 0.02960442565381527\n",
            "OrderedDict([('weights', tensor([0.5545])), ('bias', tensor([0.3613]))])\n",
            "loss 0.029265418648719788\n",
            "OrderedDict([('weights', tensor([0.5561])), ('bias', tensor([0.3603]))])\n",
            "loss 0.028919223695993423\n",
            "OrderedDict([('weights', tensor([0.5579])), ('bias', tensor([0.3598]))])\n",
            "loss 0.028576409444212914\n",
            "OrderedDict([('weights', tensor([0.5595])), ('bias', tensor([0.3588]))])\n",
            "loss 0.028234025463461876\n",
            "OrderedDict([('weights', tensor([0.5613])), ('bias', tensor([0.3583]))])\n",
            "loss 0.02788739837706089\n",
            "OrderedDict([('weights', tensor([0.5629])), ('bias', tensor([0.3573]))])\n",
            "loss 0.02754882536828518\n",
            "OrderedDict([('weights', tensor([0.5647])), ('bias', tensor([0.3568]))])\n",
            "loss 0.027199819684028625\n",
            "OrderedDict([('weights', tensor([0.5665])), ('bias', tensor([0.3563]))])\n",
            "loss 0.026862185448408127\n",
            "OrderedDict([('weights', tensor([0.5681])), ('bias', tensor([0.3553]))])\n",
            "loss 0.02651461586356163\n",
            "OrderedDict([('weights', tensor([0.5699])), ('bias', tensor([0.3548]))])\n",
            "loss 0.026173178106546402\n",
            "OrderedDict([('weights', tensor([0.5715])), ('bias', tensor([0.3538]))])\n",
            "loss 0.025829419493675232\n",
            "OrderedDict([('weights', tensor([0.5733])), ('bias', tensor([0.3533]))])\n",
            "loss 0.02548416517674923\n",
            "OrderedDict([('weights', tensor([0.5748])), ('bias', tensor([0.3523]))])\n",
            "loss 0.025144213810563087\n",
            "OrderedDict([('weights', tensor([0.5766])), ('bias', tensor([0.3518]))])\n",
            "loss 0.02479521557688713\n",
            "OrderedDict([('weights', tensor([0.5784])), ('bias', tensor([0.3513]))])\n",
            "loss 0.024458957836031914\n",
            "OrderedDict([('weights', tensor([0.5800])), ('bias', tensor([0.3503]))])\n",
            "loss 0.024110013619065285\n",
            "OrderedDict([('weights', tensor([0.5818])), ('bias', tensor([0.3498]))])\n",
            "loss 0.02376994863152504\n",
            "OrderedDict([('weights', tensor([0.5834])), ('bias', tensor([0.3488]))])\n",
            "loss 0.02342480979859829\n",
            "OrderedDict([('weights', tensor([0.5852])), ('bias', tensor([0.3483]))])\n",
            "loss 0.023080935701727867\n",
            "OrderedDict([('weights', tensor([0.5868])), ('bias', tensor([0.3473]))])\n",
            "loss 0.022739607840776443\n",
            "OrderedDict([('weights', tensor([0.5886])), ('bias', tensor([0.3468]))])\n",
            "loss 0.022391926497220993\n",
            "OrderedDict([('weights', tensor([0.5902])), ('bias', tensor([0.3458]))])\n",
            "loss 0.022054409608244896\n",
            "OrderedDict([('weights', tensor([0.5920])), ('bias', tensor([0.3453]))])\n",
            "loss 0.02170540764927864\n",
            "OrderedDict([('weights', tensor([0.5938])), ('bias', tensor([0.3448]))])\n",
            "loss 0.021366719156503677\n",
            "OrderedDict([('weights', tensor([0.5954])), ('bias', tensor([0.3438]))])\n",
            "loss 0.021020207554101944\n",
            "OrderedDict([('weights', tensor([0.5972])), ('bias', tensor([0.3433]))])\n",
            "loss 0.020677709951996803\n",
            "OrderedDict([('weights', tensor([0.5988])), ('bias', tensor([0.3423]))])\n",
            "loss 0.02033500373363495\n",
            "OrderedDict([('weights', tensor([0.6006])), ('bias', tensor([0.3418]))])\n",
            "loss 0.01998869702219963\n",
            "OrderedDict([('weights', tensor([0.6022])), ('bias', tensor([0.3408]))])\n",
            "loss 0.019649803638458252\n",
            "OrderedDict([('weights', tensor([0.6040])), ('bias', tensor([0.3403]))])\n",
            "loss 0.019300809130072594\n",
            "OrderedDict([('weights', tensor([0.6058])), ('bias', tensor([0.3398]))])\n",
            "loss 0.018963487818837166\n",
            "OrderedDict([('weights', tensor([0.6074])), ('bias', tensor([0.3388]))])\n",
            "loss 0.01861560344696045\n",
            "OrderedDict([('weights', tensor([0.6092])), ('bias', tensor([0.3383]))])\n",
            "loss 0.018274478614330292\n",
            "OrderedDict([('weights', tensor([0.6108])), ('bias', tensor([0.3373]))])\n",
            "loss 0.017930403351783752\n",
            "OrderedDict([('weights', tensor([0.6126])), ('bias', tensor([0.3368]))])\n",
            "loss 0.01758546568453312\n",
            "OrderedDict([('weights', tensor([0.6141])), ('bias', tensor([0.3358]))])\n",
            "loss 0.017245199531316757\n",
            "OrderedDict([('weights', tensor([0.6159])), ('bias', tensor([0.3353]))])\n",
            "loss 0.016896454617381096\n",
            "OrderedDict([('weights', tensor([0.6175])), ('bias', tensor([0.3343]))])\n",
            "loss 0.01656000316143036\n",
            "OrderedDict([('weights', tensor([0.6193])), ('bias', tensor([0.3338]))])\n",
            "loss 0.016210997477173805\n",
            "OrderedDict([('weights', tensor([0.6211])), ('bias', tensor([0.3333]))])\n",
            "loss 0.01587124727666378\n",
            "OrderedDict([('weights', tensor([0.6227])), ('bias', tensor([0.3323]))])\n",
            "loss 0.015525798313319683\n",
            "OrderedDict([('weights', tensor([0.6245])), ('bias', tensor([0.3318]))])\n",
            "loss 0.015182236209511757\n",
            "OrderedDict([('weights', tensor([0.6261])), ('bias', tensor([0.3308]))])\n",
            "loss 0.014840595424175262\n",
            "OrderedDict([('weights', tensor([0.6279])), ('bias', tensor([0.3303]))])\n",
            "loss 0.01449323259294033\n",
            "OrderedDict([('weights', tensor([0.6295])), ('bias', tensor([0.3293]))])\n",
            "loss 0.014155393466353416\n",
            "OrderedDict([('weights', tensor([0.6313])), ('bias', tensor([0.3288]))])\n",
            "loss 0.013806397095322609\n",
            "OrderedDict([('weights', tensor([0.6331])), ('bias', tensor([0.3283]))])\n",
            "loss 0.013468016870319843\n",
            "OrderedDict([('weights', tensor([0.6347])), ('bias', tensor([0.3273]))])\n",
            "loss 0.013121193274855614\n",
            "OrderedDict([('weights', tensor([0.6365])), ('bias', tensor([0.3268]))])\n",
            "loss 0.01277900766581297\n",
            "OrderedDict([('weights', tensor([0.6381])), ('bias', tensor([0.3258]))])\n",
            "loss 0.012435992248356342\n",
            "OrderedDict([('weights', tensor([0.6399])), ('bias', tensor([0.3253]))])\n",
            "loss 0.01208999752998352\n",
            "OrderedDict([('weights', tensor([0.6415])), ('bias', tensor([0.3243]))])\n",
            "loss 0.011750795878469944\n",
            "OrderedDict([('weights', tensor([0.6433])), ('bias', tensor([0.3238]))])\n",
            "loss 0.011401787400245667\n",
            "OrderedDict([('weights', tensor([0.6451])), ('bias', tensor([0.3233]))])\n",
            "loss 0.011064787395298481\n",
            "OrderedDict([('weights', tensor([0.6467])), ('bias', tensor([0.3223]))])\n",
            "loss 0.010716589167714119\n",
            "OrderedDict([('weights', tensor([0.6485])), ('bias', tensor([0.3218]))])\n",
            "loss 0.010375778190791607\n",
            "OrderedDict([('weights', tensor([0.6501])), ('bias', tensor([0.3208]))])\n",
            "loss 0.010031387209892273\n",
            "OrderedDict([('weights', tensor([0.6519])), ('bias', tensor([0.3203]))])\n",
            "loss 0.009686763398349285\n",
            "OrderedDict([('weights', tensor([0.6534])), ('bias', tensor([0.3193]))])\n",
            "loss 0.009346187114715576\n",
            "OrderedDict([('weights', tensor([0.6552])), ('bias', tensor([0.3188]))])\n",
            "loss 0.008997755125164986\n",
            "OrderedDict([('weights', tensor([0.6568])), ('bias', tensor([0.3178]))])\n",
            "loss 0.008660981431603432\n",
            "OrderedDict([('weights', tensor([0.6586])), ('bias', tensor([0.3173]))])\n",
            "loss 0.008311985060572624\n",
            "OrderedDict([('weights', tensor([0.6604])), ('bias', tensor([0.3168]))])\n",
            "loss 0.007972544990479946\n",
            "OrderedDict([('weights', tensor([0.6620])), ('bias', tensor([0.3158]))])\n",
            "loss 0.007626785431057215\n",
            "OrderedDict([('weights', tensor([0.6638])), ('bias', tensor([0.3153]))])\n",
            "loss 0.0072835334576666355\n",
            "OrderedDict([('weights', tensor([0.6654])), ('bias', tensor([0.3143]))])\n",
            "loss 0.006941580679267645\n",
            "OrderedDict([('weights', tensor([0.6672])), ('bias', tensor([0.3138]))])\n",
            "loss 0.006594526115804911\n",
            "OrderedDict([('weights', tensor([0.6688])), ('bias', tensor([0.3128]))])\n",
            "loss 0.006256377790123224\n",
            "OrderedDict([('weights', tensor([0.6706])), ('bias', tensor([0.3123]))])\n",
            "loss 0.005907376762479544\n",
            "OrderedDict([('weights', tensor([0.6724])), ('bias', tensor([0.3118]))])\n",
            "loss 0.005569315515458584\n",
            "OrderedDict([('weights', tensor([0.6740])), ('bias', tensor([0.3108]))])\n",
            "loss 0.005222178064286709\n",
            "OrderedDict([('weights', tensor([0.6758])), ('bias', tensor([0.3103]))])\n",
            "loss 0.004880306776612997\n",
            "OrderedDict([('weights', tensor([0.6774])), ('bias', tensor([0.3093]))])\n",
            "loss 0.004536976106464863\n",
            "OrderedDict([('weights', tensor([0.6792])), ('bias', tensor([0.3088]))])\n",
            "loss 0.00419129803776741\n",
            "OrderedDict([('weights', tensor([0.6808])), ('bias', tensor([0.3078]))])\n",
            "loss 0.0038517764769494534\n",
            "OrderedDict([('weights', tensor([0.6826])), ('bias', tensor([0.3073]))])\n",
            "loss 0.0035027749836444855\n",
            "OrderedDict([('weights', tensor([0.6844])), ('bias', tensor([0.3068]))])\n",
            "loss 0.0031660839449614286\n",
            "OrderedDict([('weights', tensor([0.6860])), ('bias', tensor([0.3058]))])\n",
            "loss 0.002817571861669421\n",
            "OrderedDict([('weights', tensor([0.6878])), ('bias', tensor([0.3053]))])\n",
            "loss 0.0024770735763013363\n",
            "OrderedDict([('weights', tensor([0.6894])), ('bias', tensor([0.3043]))])\n",
            "loss 0.0021323717664927244\n",
            "OrderedDict([('weights', tensor([0.6912])), ('bias', tensor([0.3038]))])\n",
            "loss 0.0017880648374557495\n",
            "OrderedDict([('weights', tensor([0.6927])), ('bias', tensor([0.3028]))])\n",
            "loss 0.0014518328243866563\n",
            "OrderedDict([('weights', tensor([0.6947])), ('bias', tensor([0.3028]))])\n",
            "loss 0.0011887758737429976\n",
            "OrderedDict([('weights', tensor([0.6951])), ('bias', tensor([0.2993]))])\n",
            "loss 0.0025885067880153656\n",
            "OrderedDict([('weights', tensor([0.6990])), ('bias', tensor([0.3093]))])\n",
            "loss 0.008932482451200485\n",
            "OrderedDict([('weights', tensor([0.6951])), ('bias', tensor([0.2993]))])\n",
            "loss 0.0025885067880153656\n",
            "OrderedDict([('weights', tensor([0.6990])), ('bias', tensor([0.3093]))])\n",
            "loss 0.008932482451200485\n",
            "OrderedDict([('weights', tensor([0.6951])), ('bias', tensor([0.2993]))])\n",
            "loss 0.0025885067880153656\n",
            "OrderedDict([('weights', tensor([0.6990])), ('bias', tensor([0.3093]))])\n",
            "loss 0.008932482451200485\n",
            "OrderedDict([('weights', tensor([0.6951])), ('bias', tensor([0.2993]))])\n",
            "loss 0.0025885067880153656\n",
            "OrderedDict([('weights', tensor([0.6990])), ('bias', tensor([0.3093]))])\n",
            "loss 0.008932482451200485\n",
            "OrderedDict([('weights', tensor([0.6951])), ('bias', tensor([0.2993]))])\n",
            "loss 0.0025885067880153656\n",
            "OrderedDict([('weights', tensor([0.6990])), ('bias', tensor([0.3093]))])\n",
            "loss 0.008932482451200485\n",
            "OrderedDict([('weights', tensor([0.6951])), ('bias', tensor([0.2993]))])\n",
            "loss 0.0025885067880153656\n",
            "OrderedDict([('weights', tensor([0.6990])), ('bias', tensor([0.3093]))])\n",
            "loss 0.008932482451200485\n",
            "OrderedDict([('weights', tensor([0.6951])), ('bias', tensor([0.2993]))])\n",
            "loss 0.0025885067880153656\n",
            "OrderedDict([('weights', tensor([0.6990])), ('bias', tensor([0.3093]))])\n",
            "loss 0.008932482451200485\n",
            "OrderedDict([('weights', tensor([0.6951])), ('bias', tensor([0.2993]))])\n",
            "loss 0.0025885067880153656\n",
            "OrderedDict([('weights', tensor([0.6990])), ('bias', tensor([0.3093]))])\n",
            "loss 0.008932482451200485\n",
            "OrderedDict([('weights', tensor([0.6951])), ('bias', tensor([0.2993]))])\n",
            "loss 0.0025885067880153656\n",
            "OrderedDict([('weights', tensor([0.6990])), ('bias', tensor([0.3093]))])\n",
            "loss 0.008932482451200485\n",
            "OrderedDict([('weights', tensor([0.6951])), ('bias', tensor([0.2993]))])\n",
            "loss 0.0025885067880153656\n",
            "OrderedDict([('weights', tensor([0.6990])), ('bias', tensor([0.3093]))])\n",
            "loss 0.008932482451200485\n",
            "OrderedDict([('weights', tensor([0.6951])), ('bias', tensor([0.2993]))])\n",
            "loss 0.0025885067880153656\n",
            "OrderedDict([('weights', tensor([0.6990])), ('bias', tensor([0.3093]))])\n",
            "loss 0.008932482451200485\n",
            "OrderedDict([('weights', tensor([0.6951])), ('bias', tensor([0.2993]))])\n",
            "loss 0.0025885067880153656\n",
            "OrderedDict([('weights', tensor([0.6990])), ('bias', tensor([0.3093]))])\n",
            "loss 0.008932482451200485\n",
            "OrderedDict([('weights', tensor([0.6951])), ('bias', tensor([0.2993]))])\n",
            "loss 0.0025885067880153656\n",
            "OrderedDict([('weights', tensor([0.6990])), ('bias', tensor([0.3093]))])\n",
            "loss 0.008932482451200485\n",
            "OrderedDict([('weights', tensor([0.6951])), ('bias', tensor([0.2993]))])\n",
            "loss 0.0025885067880153656\n",
            "OrderedDict([('weights', tensor([0.6990])), ('bias', tensor([0.3093]))])\n",
            "loss 0.008932482451200485\n",
            "OrderedDict([('weights', tensor([0.6951])), ('bias', tensor([0.2993]))])\n",
            "loss 0.0025885067880153656\n",
            "OrderedDict([('weights', tensor([0.6990])), ('bias', tensor([0.3093]))])\n",
            "loss 0.008932482451200485\n",
            "OrderedDict([('weights', tensor([0.6951])), ('bias', tensor([0.2993]))])\n",
            "loss 0.0025885067880153656\n",
            "OrderedDict([('weights', tensor([0.6990])), ('bias', tensor([0.3093]))])\n"
          ]
        }
      ]
    },
    {
      "cell_type": "code",
      "source": [
        "with torch.inference_mode():\n",
        "  y_preds_new = model_0(X_test)"
      ],
      "metadata": {
        "id": "PC2WFUxQhhDA"
      },
      "execution_count": 84,
      "outputs": []
    },
    {
      "cell_type": "code",
      "source": [
        "plot_predictions(predictions=y_preds_new)"
      ],
      "metadata": {
        "colab": {
          "base_uri": "https://localhost:8080/",
          "height": 599
        },
        "id": "51S9EafmqX-l",
        "outputId": "bbc7c863-cfdc-4ffe-bc2d-84eed9656f20"
      },
      "execution_count": 85,
      "outputs": [
        {
          "output_type": "display_data",
          "data": {
            "text/plain": [
              "<Figure size 1000x700 with 1 Axes>"
            ],
            "image/png": "[encoded data removed]"
          },
          "metadata": {}
        }
      ]
    },
    {
      "cell_type": "code",
      "source": [
        "#resetting the model\n",
        "model_0= LinearRegressionModel()\n",
        "optimizer = torch.optim.SGD(params=model_0.parameters(), #params: the model params you would like to optimize\n",
        "                            lr=0.01)\n",
        "model_0.state_dict()"
      ],
      "metadata": {
        "colab": {
          "base_uri": "https://localhost:8080/"
        },
        "id": "nVP5ZFn5sA3z",
        "outputId": "22609c5c-500d-41a1-c5ba-87096b0d1f63"
      },
      "execution_count": 86,
      "outputs": [
        {
          "output_type": "execute_result",
          "data": {
            "text/plain": [
              "OrderedDict([('weights', tensor([0.3367])), ('bias', tensor([0.1288]))])"
            ]
          },
          "metadata": {},
          "execution_count": 86
        }
      ]
    },
    {
      "cell_type": "code",
      "source": [
        "#### WRITE THE TESTING LOOPPPPPPPPPPP"
      ],
      "metadata": {
        "id": "BP0MZezstzMg"
      },
      "execution_count": 87,
      "outputs": []
    },
    {
      "cell_type": "code",
      "source": [
        "torch.manual_seed(42)\n",
        "#An epoch is one loop through the data\n",
        "## this is a hyperparameter because we set it ourselves\n",
        "epochs = 2000\n",
        "\n",
        "### Training\n",
        "#0.loop through the data\n",
        "for epoch in range(epochs):\n",
        "  # set the model to training mode (default state of the model)\n",
        "  #train mode in PyTorch sets all parameters that require gradients (require_grad true) to require gradients\n",
        "  model_0.train()\n",
        "  # model_0.eval() #turns off gradient tracking\n",
        "\n",
        "  #1. forward pass (calls the forward() method inside)\n",
        "  y_pred = model_0(X_train)\n",
        "\n",
        "  #2. Calculate the loss (how different are the model's predictions to the true values)\n",
        "  loss = loss_fn(y_pred, y_train)\n",
        "  # print(f\"loss {loss}\")\n",
        "\n",
        "  #3. Optimizer zero grad (gradients accumulate by default, so we zero it)\n",
        "  optimizer.zero_grad()\n",
        "\n",
        "  #4. Perform back propagation on the loss with respect to the parameters of the model\n",
        "  loss.backward()\n",
        "\n",
        "  #5. Step the optimzer (perform gradient descent)\n",
        "  \"\"\"#by default hpw the optimizer changes will accumulate through the loop,\n",
        "  so we have to zero them in step 3 above for the next iteration of the loop\"\"\"\n",
        "  #check torch autograd\n",
        "  #check learning rate scheduling\n",
        "  optimizer.step()\n",
        "\n",
        "  ###Testing\n",
        "  model_0.eval()  #turns off different settings in model not needed for evaluation/testing (droppout/batchnorm layers)\n",
        "  #with torch.no_grad() is also valid, but inefrence mode is nograd on steroids\n",
        "  with torch.inference_mode(): #turns off grad tracking etc\n",
        "    # 1. Do the forward pass in testing mode\n",
        "    test_pred = model_0(X_test)\n",
        "\n",
        "    #2.Calculate the loss\n",
        "    test_loss = loss_fn(test_pred, y_test)\n",
        "\n",
        "  #Print whats happening\n",
        "  if epoch % 100 ==0:\n",
        "    print(f\"Epock {epoch} | Loss: {loss} | Test Loss: {test_loss}\")\n",
        "    #Print out model state_dict()\n",
        "    print(model_0.state_dict())"
      ],
      "metadata": {
        "colab": {
          "base_uri": "https://localhost:8080/"
        },
        "id": "sStb2CA_qbYZ",
        "outputId": "451175bd-2ce4-4658-d044-137e28ca914d"
      },
      "execution_count": 88,
      "outputs": [
        {
          "output_type": "stream",
          "name": "stdout",
          "text": [
            "Epock 0 | Loss: 0.31288138031959534 | Test Loss: 0.48106518387794495\n",
            "OrderedDict([('weights', tensor([0.3406])), ('bias', tensor([0.1388]))])\n",
            "Epock 100 | Loss: 0.024458957836031914 | Test Loss: 0.05646304413676262\n",
            "OrderedDict([('weights', tensor([0.5800])), ('bias', tensor([0.3503]))])\n",
            "Epock 200 | Loss: 0.008932482451200485 | Test Loss: 0.005023092031478882\n",
            "OrderedDict([('weights', tensor([0.6951])), ('bias', tensor([0.2993]))])\n",
            "Epock 300 | Loss: 0.008932482451200485 | Test Loss: 0.005023092031478882\n",
            "OrderedDict([('weights', tensor([0.6951])), ('bias', tensor([0.2993]))])\n",
            "Epock 400 | Loss: 0.008932482451200485 | Test Loss: 0.005023092031478882\n",
            "OrderedDict([('weights', tensor([0.6951])), ('bias', tensor([0.2993]))])\n",
            "Epock 500 | Loss: 0.008932482451200485 | Test Loss: 0.005023092031478882\n",
            "OrderedDict([('weights', tensor([0.6951])), ('bias', tensor([0.2993]))])\n",
            "Epock 600 | Loss: 0.008932482451200485 | Test Loss: 0.005023092031478882\n",
            "OrderedDict([('weights', tensor([0.6951])), ('bias', tensor([0.2993]))])\n",
            "Epock 700 | Loss: 0.008932482451200485 | Test Loss: 0.005023092031478882\n",
            "OrderedDict([('weights', tensor([0.6951])), ('bias', tensor([0.2993]))])\n",
            "Epock 800 | Loss: 0.008932482451200485 | Test Loss: 0.005023092031478882\n",
            "OrderedDict([('weights', tensor([0.6951])), ('bias', tensor([0.2993]))])\n",
            "Epock 900 | Loss: 0.008932482451200485 | Test Loss: 0.005023092031478882\n",
            "OrderedDict([('weights', tensor([0.6951])), ('bias', tensor([0.2993]))])\n",
            "Epock 1000 | Loss: 0.008932482451200485 | Test Loss: 0.005023092031478882\n",
            "OrderedDict([('weights', tensor([0.6951])), ('bias', tensor([0.2993]))])\n",
            "Epock 1100 | Loss: 0.008932482451200485 | Test Loss: 0.005023092031478882\n",
            "OrderedDict([('weights', tensor([0.6951])), ('bias', tensor([0.2993]))])\n",
            "Epock 1200 | Loss: 0.008932482451200485 | Test Loss: 0.005023092031478882\n",
            "OrderedDict([('weights', tensor([0.6951])), ('bias', tensor([0.2993]))])\n",
            "Epock 1300 | Loss: 0.008932482451200485 | Test Loss: 0.005023092031478882\n",
            "OrderedDict([('weights', tensor([0.6951])), ('bias', tensor([0.2993]))])\n",
            "Epock 1400 | Loss: 0.008932482451200485 | Test Loss: 0.005023092031478882\n",
            "OrderedDict([('weights', tensor([0.6951])), ('bias', tensor([0.2993]))])\n",
            "Epock 1500 | Loss: 0.008932482451200485 | Test Loss: 0.005023092031478882\n",
            "OrderedDict([('weights', tensor([0.6951])), ('bias', tensor([0.2993]))])\n",
            "Epock 1600 | Loss: 0.008932482451200485 | Test Loss: 0.005023092031478882\n",
            "OrderedDict([('weights', tensor([0.6951])), ('bias', tensor([0.2993]))])\n",
            "Epock 1700 | Loss: 0.008932482451200485 | Test Loss: 0.005023092031478882\n",
            "OrderedDict([('weights', tensor([0.6951])), ('bias', tensor([0.2993]))])\n",
            "Epock 1800 | Loss: 0.008932482451200485 | Test Loss: 0.005023092031478882\n",
            "OrderedDict([('weights', tensor([0.6951])), ('bias', tensor([0.2993]))])\n",
            "Epock 1900 | Loss: 0.008932482451200485 | Test Loss: 0.005023092031478882\n",
            "OrderedDict([('weights', tensor([0.6951])), ('bias', tensor([0.2993]))])\n"
          ]
        }
      ]
    },
    {
      "cell_type": "code",
      "source": [
        "model_0.state_dict()"
      ],
      "metadata": {
        "colab": {
          "base_uri": "https://localhost:8080/"
        },
        "id": "EGlvztWmsYmb",
        "outputId": "e0ce0e08-9b8d-4c6d-c326-2207d633ca0f"
      },
      "execution_count": 89,
      "outputs": [
        {
          "output_type": "execute_result",
          "data": {
            "text/plain": [
              "OrderedDict([('weights', tensor([0.6990])), ('bias', tensor([0.3093]))])"
            ]
          },
          "metadata": {},
          "execution_count": 89
        }
      ]
    },
    {
      "cell_type": "code",
      "source": [
        "with torch.inference_mode():\n",
        "  y_preds_new = model_0(X_test)"
      ],
      "metadata": {
        "id": "1e2-xhjvtph1"
      },
      "execution_count": 90,
      "outputs": []
    },
    {
      "cell_type": "code",
      "source": [
        "plot_predictions(predictions=y_preds_new)"
      ],
      "metadata": {
        "colab": {
          "base_uri": "https://localhost:8080/",
          "height": 599
        },
        "id": "T2LAJxiIuDTO",
        "outputId": "e9200269-23d5-4fe4-8689-36cacb58436f"
      },
      "execution_count": 91,
      "outputs": [
        {
          "output_type": "display_data",
          "data": {
            "text/plain": [
              "<Figure size 1000x700 with 1 Axes>"
            ],
            "image/png": "[encoded data removed]"
          },
          "metadata": {}
        }
      ]
    },
    {
      "cell_type": "markdown",
      "source": [
        "#### Model tracking"
      ],
      "metadata": {
        "id": "xSI_nv3fvx__"
      }
    },
    {
      "cell_type": "code",
      "source": [
        "#resetting the model\n",
        "model_0= LinearRegressionModel()\n",
        "optimizer = torch.optim.SGD(params=model_0.parameters(), #params: the model params you would like to optimize\n",
        "                            lr=0.01)\n",
        "model_0.state_dict()"
      ],
      "metadata": {
        "colab": {
          "base_uri": "https://localhost:8080/"
        },
        "id": "e8eTx5qKvvCX",
        "outputId": "570f3527-6ce3-479e-ff04-c4a503f7b0d3"
      },
      "execution_count": 92,
      "outputs": [
        {
          "output_type": "execute_result",
          "data": {
            "text/plain": [
              "OrderedDict([('weights', tensor([0.3367])), ('bias', tensor([0.1288]))])"
            ]
          },
          "metadata": {},
          "execution_count": 92
        }
      ]
    },
    {
      "cell_type": "code",
      "source": [
        "torch.manual_seed(42)\n",
        "#An epoch is one loop through the data\n",
        "## this is a hyperparameter because we set it ourselves\n",
        "epochs = 200\n",
        "\n",
        "#Track different values\n",
        "epoch_counts =[]\n",
        "loss_values=[]\n",
        "test_loss_values=[]\n",
        "\n",
        "### Training\n",
        "#0.loop through the data\n",
        "for epoch in range(epochs):\n",
        "  # set the model to training mode (default state of the model)\n",
        "  #train mode in PyTorch sets all parameters that require gradients (require_grad true) to require gradients\n",
        "  model_0.train()\n",
        "  # model_0.eval() #turns off gradient tracking\n",
        "\n",
        "  #1. forward pass (calls the forward() method inside)\n",
        "  y_pred = model_0(X_train)\n",
        "\n",
        "  #2. Calculate the loss (how different are the model's predictions to the true values)\n",
        "  loss = loss_fn(y_pred, y_train)\n",
        "  # print(f\"loss {loss}\")\n",
        "\n",
        "  #3. Optimizer zero grad (gradients accumulate by default, so we zero it)\n",
        "  optimizer.zero_grad()\n",
        "\n",
        "  #4. Perform back propagation on the loss with respect to the parameters of the model\n",
        "  loss.backward()\n",
        "\n",
        "  #5. Step the optimzer (perform gradient descent)\n",
        "  \"\"\"#by default hpw the optimizer changes will accumulate through the loop,\n",
        "  so we have to zero them in step 3 above for the next iteration of the loop\"\"\"\n",
        "  #check torch autograd\n",
        "  #check learning rate scheduling\n",
        "  optimizer.step()\n",
        "\n",
        "  ###Testing\n",
        "  model_0.eval()  #turns off different settings in model not needed for evaluation/testing (droppout/batchnorm layers)\n",
        "  #with torch.no_grad() is also valid, but inefrence mode is nograd on steroids\n",
        "  with torch.inference_mode(): #turns off grad tracking etc\n",
        "    # 1. Do the forward pass in testing mode\n",
        "    test_pred = model_0(X_test)\n",
        "\n",
        "    #2.Calculate the loss\n",
        "    test_loss = loss_fn(test_pred, y_test)\n",
        "\n",
        "  #Print whats happening\n",
        "  if epoch % 10 ==0:\n",
        "    epoch_counts.append(epoch)\n",
        "    loss_values.append(loss)\n",
        "    test_loss_values.append(test_loss)\n",
        "    print(f\"Epock {epoch} | Loss: {loss} | Test Loss: {test_loss}\")\n",
        "    #Print out model state_dict()\n",
        "    print(model_0.state_dict())"
      ],
      "metadata": {
        "colab": {
          "base_uri": "https://localhost:8080/"
        },
        "id": "JqgNAxNNuH2m",
        "outputId": "d68d729c-ea7d-4f15-c084-68359372210b"
      },
      "execution_count": 93,
      "outputs": [
        {
          "output_type": "stream",
          "name": "stdout",
          "text": [
            "Epock 0 | Loss: 0.31288138031959534 | Test Loss: 0.48106518387794495\n",
            "OrderedDict([('weights', tensor([0.3406])), ('bias', tensor([0.1388]))])\n",
            "Epock 10 | Loss: 0.1976713240146637 | Test Loss: 0.3463551998138428\n",
            "OrderedDict([('weights', tensor([0.3796])), ('bias', tensor([0.2388]))])\n",
            "Epock 20 | Loss: 0.08908725529909134 | Test Loss: 0.21729660034179688\n",
            "OrderedDict([('weights', tensor([0.4184])), ('bias', tensor([0.3333]))])\n",
            "Epock 30 | Loss: 0.053148526698350906 | Test Loss: 0.14464017748832703\n",
            "OrderedDict([('weights', tensor([0.4512])), ('bias', tensor([0.3768]))])\n",
            "Epock 40 | Loss: 0.04543796554207802 | Test Loss: 0.11360953003168106\n",
            "OrderedDict([('weights', tensor([0.4748])), ('bias', tensor([0.3868]))])\n",
            "Epock 50 | Loss: 0.04167863354086876 | Test Loss: 0.09919948130846024\n",
            "OrderedDict([('weights', tensor([0.4938])), ('bias', tensor([0.3843]))])\n",
            "Epock 60 | Loss: 0.03818932920694351 | Test Loss: 0.08886633068323135\n",
            "OrderedDict([('weights', tensor([0.5116])), ('bias', tensor([0.3788]))])\n",
            "Epock 70 | Loss: 0.03476089984178543 | Test Loss: 0.0805937647819519\n",
            "OrderedDict([('weights', tensor([0.5288])), ('bias', tensor([0.3718]))])\n",
            "Epock 80 | Loss: 0.03132382780313492 | Test Loss: 0.07232122868299484\n",
            "OrderedDict([('weights', tensor([0.5459])), ('bias', tensor([0.3648]))])\n",
            "Epock 90 | Loss: 0.02788739837706089 | Test Loss: 0.06473556160926819\n",
            "OrderedDict([('weights', tensor([0.5629])), ('bias', tensor([0.3573]))])\n",
            "Epock 100 | Loss: 0.024458957836031914 | Test Loss: 0.05646304413676262\n",
            "OrderedDict([('weights', tensor([0.5800])), ('bias', tensor([0.3503]))])\n",
            "Epock 110 | Loss: 0.021020207554101944 | Test Loss: 0.04819049686193466\n",
            "OrderedDict([('weights', tensor([0.5972])), ('bias', tensor([0.3433]))])\n",
            "Epock 120 | Loss: 0.01758546568453312 | Test Loss: 0.04060482233762741\n",
            "OrderedDict([('weights', tensor([0.6141])), ('bias', tensor([0.3358]))])\n",
            "Epock 130 | Loss: 0.014155393466353416 | Test Loss: 0.03233227878808975\n",
            "OrderedDict([('weights', tensor([0.6313])), ('bias', tensor([0.3288]))])\n",
            "Epock 140 | Loss: 0.010716589167714119 | Test Loss: 0.024059748277068138\n",
            "OrderedDict([('weights', tensor([0.6485])), ('bias', tensor([0.3218]))])\n",
            "Epock 150 | Loss: 0.0072835334576666355 | Test Loss: 0.016474086791276932\n",
            "OrderedDict([('weights', tensor([0.6654])), ('bias', tensor([0.3143]))])\n",
            "Epock 160 | Loss: 0.0038517764769494534 | Test Loss: 0.008201557211577892\n",
            "OrderedDict([('weights', tensor([0.6826])), ('bias', tensor([0.3073]))])\n",
            "Epock 170 | Loss: 0.008932482451200485 | Test Loss: 0.005023092031478882\n",
            "OrderedDict([('weights', tensor([0.6951])), ('bias', tensor([0.2993]))])\n",
            "Epock 180 | Loss: 0.008932482451200485 | Test Loss: 0.005023092031478882\n",
            "OrderedDict([('weights', tensor([0.6951])), ('bias', tensor([0.2993]))])\n",
            "Epock 190 | Loss: 0.008932482451200485 | Test Loss: 0.005023092031478882\n",
            "OrderedDict([('weights', tensor([0.6951])), ('bias', tensor([0.2993]))])\n"
          ]
        }
      ]
    },
    {
      "cell_type": "code",
      "source": [
        "with torch.inference_mode():\n",
        "  y_preds_new = model_0(X_test)"
      ],
      "metadata": {
        "id": "Zt6z-2eEv5US"
      },
      "execution_count": 94,
      "outputs": []
    },
    {
      "cell_type": "code",
      "source": [
        "plot_predictions(predictions=y_preds_new)"
      ],
      "metadata": {
        "colab": {
          "base_uri": "https://localhost:8080/",
          "height": 599
        },
        "id": "AzQbU52TwLbb",
        "outputId": "8c1649fa-0816-4e16-9e87-496de298a1fd"
      },
      "execution_count": 95,
      "outputs": [
        {
          "output_type": "display_data",
          "data": {
            "text/plain": [
              "<Figure size 1000x700 with 1 Axes>"
            ],
            "image/png": "[encoded data removed]"
          },
          "metadata": {}
        }
      ]
    },
    {
      "cell_type": "code",
      "source": [
        "#Plot the loss curves\n",
        "plt.plot(epoch_counts, torch.tensor(loss_values).cpu().numpy(), label = \"Train loss\")\n",
        "plt.plot(epoch_counts, torch.tensor(test_loss_values).cpu().numpy(), label = \"Test loss\")\n",
        "plt.title(\"Training and test loss curves\")\n",
        "plt.ylabel(\"Loss\")\n",
        "plt.xlabel(\"Epochs\")\n",
        "plt.legend()"
      ],
      "metadata": {
        "colab": {
          "base_uri": "https://localhost:8080/",
          "height": 490
        },
        "id": "ziZlK6G9wPi1",
        "outputId": "ae1c2691-a7b3-41f5-c5ac-cf48a2fddd84"
      },
      "execution_count": 96,
      "outputs": [
        {
          "output_type": "execute_result",
          "data": {
            "text/plain": [
              "<matplotlib.legend.Legend at 0x7b2b920eb760>"
            ]
          },
          "metadata": {},
          "execution_count": 96
        },
        {
          "output_type": "display_data",
          "data": {
            "text/plain": [
              "<Figure size 640x480 with 1 Axes>"
            ],
            "image/png": "[encoded data removed]"
          },
          "metadata": {}
        }
      ]
    },
    {
      "cell_type": "markdown",
      "source": [
        "### Saving a model\n",
        "There are 3 main methods for saving and loading models in PyTorch.\n",
        "1. `torch.save()` - allows you to save a PyTorch object in Python's pickle format\n",
        "2. `torch.load()` - allows you to load a saved PyTorch object\n",
        "3. `torch.nn.Module.load_state_dict()` - this allows you to load a model's saved state dictionary"
      ],
      "metadata": {
        "id": "anpRndEux-HN"
      }
    },
    {
      "cell_type": "code",
      "source": [
        "# Saving our PyTorch model\n",
        "\n",
        "from pathlib import Path\n",
        "\n",
        "#1. Create a model directory\n",
        "MODEL_PATH = Path(\"models\")\n",
        "MODEL_PATH.mkdir(parents=True, exist_ok=True)\n",
        "\n",
        "#2. Create a model save path\n",
        "MODEL_NAME = \"ZTM_01_model_0.pth\"\n",
        "MODEL_SAVE_PATH = MODEL_PATH/MODEL_NAME\n",
        "\n",
        "#3. Save the model state dict\n",
        "print(f\"Saving model to {MODEL_SAVE_PATH}\")\n",
        "torch.save(obj=model_0.state_dict(), f=MODEL_SAVE_PATH)"
      ],
      "metadata": {
        "colab": {
          "base_uri": "https://localhost:8080/"
        },
        "id": "eG0ceosizWf2",
        "outputId": "c5ea1d91-568e-406f-d386-8b33b779d8aa"
      },
      "execution_count": 97,
      "outputs": [
        {
          "output_type": "stream",
          "name": "stdout",
          "text": [
            "Saving model to models/ZTM_01_model_0.pth\n"
          ]
        }
      ]
    },
    {
      "cell_type": "code",
      "source": [
        "!ls -l models"
      ],
      "metadata": {
        "colab": {
          "base_uri": "https://localhost:8080/"
        },
        "id": "HcK2fbzN1ex2",
        "outputId": "a3b276c1-6abb-4d16-fd15-920014397583"
      },
      "execution_count": 98,
      "outputs": [
        {
          "output_type": "stream",
          "name": "stdout",
          "text": [
            "total 8\n",
            "-rw-r--r-- 1 root root 1720 Mar 20 17:31 01_LINEAR_MULTI_model_1.pth\n",
            "-rw-r--r-- 1 root root 1538 Mar 20 17:37 ZTM_01_model_0.pth\n"
          ]
        }
      ]
    },
    {
      "cell_type": "markdown",
      "source": [
        "### Loading a model\n",
        "\n",
        "Since we saved our model's state_dict() rather than the entire model, we will create a new instance of our model class and load saved state_dict() into that."
      ],
      "metadata": {
        "id": "NGMSHcBQ19z1"
      }
    },
    {
      "cell_type": "code",
      "source": [
        "#instantiate a new instance of our model class, to load saved state_dict\n",
        "\n",
        "loaded_model_0= LinearRegressionModel()\n",
        "\n",
        "print(loaded_model_0.state_dict())\n",
        "\n",
        "#Load the saved state dict of model_0 (this will upadte the new instance with updated params)\n",
        "loaded_model_0.load_state_dict(torch.load(f=MODEL_SAVE_PATH))\n",
        "print(loaded_model_0.state_dict())"
      ],
      "metadata": {
        "colab": {
          "base_uri": "https://localhost:8080/"
        },
        "id": "dXqqgPIzqGPT",
        "outputId": "e6ddb640-f8e4-410b-bccb-aebc4fff3b93"
      },
      "execution_count": 99,
      "outputs": [
        {
          "output_type": "stream",
          "name": "stdout",
          "text": [
            "OrderedDict([('weights', tensor([0.3367])), ('bias', tensor([0.1288]))])\n",
            "OrderedDict([('weights', tensor([0.6990])), ('bias', tensor([0.3093]))])\n"
          ]
        }
      ]
    },
    {
      "cell_type": "code",
      "source": [
        "#Make some predictions with the loaded model\n",
        "loaded_model_0.eval()\n",
        "with torch.inference_mode():\n",
        "  loaded_model_preds = loaded_model_0(X_test)\n",
        "loaded_model_preds\n"
      ],
      "metadata": {
        "colab": {
          "base_uri": "https://localhost:8080/"
        },
        "id": "ujW2tyjgqwSI",
        "outputId": "918e5bc1-fc3c-47d9-e25f-e69db0aed182"
      },
      "execution_count": 100,
      "outputs": [
        {
          "output_type": "execute_result",
          "data": {
            "text/plain": [
              "tensor([[0.8685],\n",
              "        [0.8825],\n",
              "        [0.8965],\n",
              "        [0.9105],\n",
              "        [0.9245],\n",
              "        [0.9384],\n",
              "        [0.9524],\n",
              "        [0.9664],\n",
              "        [0.9804],\n",
              "        [0.9944]])"
            ]
          },
          "metadata": {},
          "execution_count": 100
        }
      ]
    },
    {
      "cell_type": "code",
      "source": [
        "#compare loaded model preds with original model preds\n",
        "y_preds_new == loaded_model_preds"
      ],
      "metadata": {
        "colab": {
          "base_uri": "https://localhost:8080/"
        },
        "id": "rvNLMstUrLC4",
        "outputId": "5e6128f6-1c81-49e4-d513-1700cfb03982"
      },
      "execution_count": 101,
      "outputs": [
        {
          "output_type": "execute_result",
          "data": {
            "text/plain": [
              "tensor([[True],\n",
              "        [True],\n",
              "        [True],\n",
              "        [True],\n",
              "        [True],\n",
              "        [True],\n",
              "        [True],\n",
              "        [True],\n",
              "        [True],\n",
              "        [True]])"
            ]
          },
          "metadata": {},
          "execution_count": 101
        }
      ]
    },
    {
      "cell_type": "markdown",
      "source": [
        "## 6. Putting it all together"
      ],
      "metadata": {
        "id": "vF3-pl_9rW3D"
      }
    },
    {
      "cell_type": "code",
      "source": [
        "import torch\n",
        "from torch import nn\n",
        "import matplotlib.pyplot as plt\n",
        "torch.__version__"
      ],
      "metadata": {
        "colab": {
          "base_uri": "https://localhost:8080/",
          "height": 35
        },
        "id": "8W2G06g1sAiG",
        "outputId": "1bf5d439-474b-49bf-fb73-bcfbd3dea9fa"
      },
      "execution_count": 102,
      "outputs": [
        {
          "output_type": "execute_result",
          "data": {
            "text/plain": [
              "'2.2.1+cu121'"
            ],
            "application/vnd.google.colaboratory.intrinsic+json": {
              "type": "string"
            }
          },
          "metadata": {},
          "execution_count": 102
        }
      ]
    },
    {
      "cell_type": "code",
      "source": [
        "#Create device agnostic code (use gpu if available for faster computing, default to cpu)\n",
        "device=\"cuda\" if torch.cuda.is_available() else \"cpu\"\n",
        "print(f\"using device {device}\")"
      ],
      "metadata": {
        "colab": {
          "base_uri": "https://localhost:8080/"
        },
        "id": "HProKAWwsT1_",
        "outputId": "4f393f44-c54f-4b2a-cd4e-4cde98de3f0e"
      },
      "execution_count": 103,
      "outputs": [
        {
          "output_type": "stream",
          "name": "stdout",
          "text": [
            "using device cuda\n"
          ]
        }
      ]
    },
    {
      "cell_type": "code",
      "source": [
        "!nvidia-smi"
      ],
      "metadata": {
        "colab": {
          "base_uri": "https://localhost:8080/"
        },
        "id": "ICOh8CJbs9jQ",
        "outputId": "8e897115-0136-4ee7-ee13-703ff4ff3836"
      },
      "execution_count": 104,
      "outputs": [
        {
          "output_type": "stream",
          "name": "stdout",
          "text": [
            "Wed Mar 20 17:37:29 2024       \n",
            "+---------------------------------------------------------------------------------------+\n",
            "| NVIDIA-SMI 535.104.05             Driver Version: 535.104.05   CUDA Version: 12.2     |\n",
            "|-----------------------------------------+----------------------+----------------------+\n",
            "| GPU  Name                 Persistence-M | Bus-Id        Disp.A | Volatile Uncorr. ECC |\n",
            "| Fan  Temp   Perf          Pwr:Usage/Cap |         Memory-Usage | GPU-Util  Compute M. |\n",
            "|                                         |                      |               MIG M. |\n",
            "|=========================================+======================+======================|\n",
            "|   0  Tesla T4                       Off | 00000000:00:04.0 Off |                    0 |\n",
            "| N/A   77C    P0              35W /  70W |    159MiB / 15360MiB |      0%      Default |\n",
            "|                                         |                      |                  N/A |\n",
            "+-----------------------------------------+----------------------+----------------------+\n",
            "                                                                                         \n",
            "+---------------------------------------------------------------------------------------+\n",
            "| Processes:                                                                            |\n",
            "|  GPU   GI   CI        PID   Type   Process name                            GPU Memory |\n",
            "|        ID   ID                                                             Usage      |\n",
            "|=======================================================================================|\n",
            "+---------------------------------------------------------------------------------------+\n"
          ]
        }
      ]
    },
    {
      "cell_type": "markdown",
      "source": [
        "###6.1 Data"
      ],
      "metadata": {
        "id": "MPa1QxbmsPKs"
      }
    },
    {
      "cell_type": "code",
      "source": [
        "#Create some dummy data using linear regression formula of y=weight*features+bias\n",
        "weights= torch.Tensor([[0.1, 0.2]])\n",
        "bias=0.1\n",
        "\n",
        "#create range values\n",
        "start = 0\n",
        "end = 2\n",
        "step = 0.02\n",
        "\n",
        "#create X and y (features and labels)\n",
        "X = torch.arange(start, end, step).unsqueeze(dim=1)\n",
        "X=X.reshape(50,-1)\n",
        "y= torch.mm(X, weights.T) + bias\n",
        "X[:10], y[:10]"
      ],
      "metadata": {
        "colab": {
          "base_uri": "https://localhost:8080/"
        },
        "id": "ALBVqCXDtCfE",
        "outputId": "c7b65ba1-9147-4a96-ab5e-009f0234e267"
      },
      "execution_count": 105,
      "outputs": [
        {
          "output_type": "execute_result",
          "data": {
            "text/plain": [
              "(tensor([[0.0000, 0.0200],\n",
              "         [0.0400, 0.0600],\n",
              "         [0.0800, 0.1000],\n",
              "         [0.1200, 0.1400],\n",
              "         [0.1600, 0.1800],\n",
              "         [0.2000, 0.2200],\n",
              "         [0.2400, 0.2600],\n",
              "         [0.2800, 0.3000],\n",
              "         [0.3200, 0.3400],\n",
              "         [0.3600, 0.3800]]),\n",
              " tensor([[0.1040],\n",
              "         [0.1160],\n",
              "         [0.1280],\n",
              "         [0.1400],\n",
              "         [0.1520],\n",
              "         [0.1640],\n",
              "         [0.1760],\n",
              "         [0.1880],\n",
              "         [0.2000],\n",
              "         [0.2120]]))"
            ]
          },
          "metadata": {},
          "execution_count": 105
        }
      ]
    },
    {
      "cell_type": "code",
      "source": [
        "#splitting the data\n",
        "train_split=int(0.8*len(X))\n",
        "X_train, y_train = X[:train_split], y[:train_split]\n",
        "X_test, y_test = X[train_split:], y[train_split:]\n",
        "\n",
        "len(X_train),len(y_train), len(X_test), len(y_test)"
      ],
      "metadata": {
        "colab": {
          "base_uri": "https://localhost:8080/"
        },
        "id": "bo7lgFpevSRG",
        "outputId": "7ea433c3-fd11-4652-8225-3057a7918a27"
      },
      "execution_count": 106,
      "outputs": [
        {
          "output_type": "execute_result",
          "data": {
            "text/plain": [
              "(40, 40, 10, 10)"
            ]
          },
          "metadata": {},
          "execution_count": 106
        }
      ]
    },
    {
      "cell_type": "code",
      "source": [
        "X_train[:,1]"
      ],
      "metadata": {
        "colab": {
          "base_uri": "https://localhost:8080/"
        },
        "id": "Hvg60Wyqxyql",
        "outputId": "9d03b4d8-9d88-4c61-d1f1-86438f4134c6"
      },
      "execution_count": 107,
      "outputs": [
        {
          "output_type": "execute_result",
          "data": {
            "text/plain": [
              "tensor([0.0200, 0.0600, 0.1000, 0.1400, 0.1800, 0.2200, 0.2600, 0.3000, 0.3400,\n",
              "        0.3800, 0.4200, 0.4600, 0.5000, 0.5400, 0.5800, 0.6200, 0.6600, 0.7000,\n",
              "        0.7400, 0.7800, 0.8200, 0.8600, 0.9000, 0.9400, 0.9800, 1.0200, 1.0600,\n",
              "        1.1000, 1.1400, 1.1800, 1.2200, 1.2600, 1.3000, 1.3400, 1.3800, 1.4200,\n",
              "        1.4600, 1.5000, 1.5400, 1.5800])"
            ]
          },
          "metadata": {},
          "execution_count": 107
        }
      ]
    },
    {
      "cell_type": "code",
      "source": [
        "def plot_predictions(train_data=X_train,\n",
        "                     train_labels=y_train,\n",
        "                     test_data=X_test,\n",
        "                     test_labels=y_test,\n",
        "                     predictions=None):\n",
        "  \"\"\" Plots training and test data and compares predictions\"\"\"\n",
        "  fig=plt.figure(figsize=(10,7))\n",
        "  ax = fig.add_subplot(111, projection='3d')\n",
        "\n",
        "\n",
        "  # Plot training data in blue\n",
        "  ax.scatter(train_data[:,0],train_data[:,1], train_labels, c=\"b\", s=4, label=\"Training data\")\n",
        "\n",
        "  #Plot test data in green\n",
        "  ax.scatter(test_data[:,0],test_data[:,1], test_labels, c=\"g\", s=4, label=\"Testing data\")\n",
        "\n",
        "  #are there predictions?\n",
        "  if predictions is not None:\n",
        "    #plot the predictions if they exist\n",
        "    ax.scatter(test_data[:,0],test_data[:,1], predictions, c=\"r\", s=4, label=\"predictions\")\n",
        "\n",
        "  #show the legends\n",
        "  plt.legend(prop={\"size\": 14});"
      ],
      "metadata": {
        "id": "8jibuFv1wYKq"
      },
      "execution_count": 108,
      "outputs": []
    },
    {
      "cell_type": "code",
      "source": [
        "plot_predictions()"
      ],
      "metadata": {
        "colab": {
          "base_uri": "https://localhost:8080/",
          "height": 576
        },
        "id": "FQMUNIroxAnP",
        "outputId": "49f96baa-e9a3-449d-9a5e-d9ecf967955f"
      },
      "execution_count": 109,
      "outputs": [
        {
          "output_type": "display_data",
          "data": {
            "text/plain": [
              "<Figure size 1000x700 with 1 Axes>"
            ],
            "image/png": "[encoded data removed]"
          },
          "metadata": {}
        }
      ]
    },
    {
      "cell_type": "markdown",
      "source": [
        "### 6.2 Building a PyTorch Linear model"
      ],
      "metadata": {
        "id": "Co-T1DyMxCkp"
      }
    },
    {
      "cell_type": "code",
      "source": [
        "#create a linear model by subclassing nn.Module\n",
        "\n",
        "class LinearRegressionModelV2(nn.Module):\n",
        "  def __init__(self):\n",
        "    super().__init__()\n",
        "    # Use nn.Linear() for creating the model params (ALSO called linear transform, probing layer, fully connected layer, dense layer)\n",
        "    # self.linear_layer = nn.Linear(in_features=1, out_features=1) [FOR ORIGINAL MODEL]\n",
        "    self.linear_layer = nn.Linear(in_features=2, out_features=1) #performs y=x(A^T)+b\n",
        "\n",
        "  def forward(self, x:torch.Tensor)->torch.Tensor:\n",
        "    return self.linear_layer(x)\n",
        "\n",
        "#Set manual seed\n",
        "torch.manual_seed(42)\n",
        "model_1 = LinearRegressionModelV2()\n",
        "model_1.state_dict()"
      ],
      "metadata": {
        "colab": {
          "base_uri": "https://localhost:8080/"
        },
        "id": "7OEyAArkykpo",
        "outputId": "2e36a7dd-6db5-4699-e969-ce98876fce9e"
      },
      "execution_count": 110,
      "outputs": [
        {
          "output_type": "execute_result",
          "data": {
            "text/plain": [
              "OrderedDict([('linear_layer.weight', tensor([[0.5406, 0.5869]])),\n",
              "             ('linear_layer.bias', tensor([-0.1657]))])"
            ]
          },
          "metadata": {},
          "execution_count": 110
        }
      ]
    },
    {
      "cell_type": "code",
      "source": [
        "model_1"
      ],
      "metadata": {
        "colab": {
          "base_uri": "https://localhost:8080/"
        },
        "id": "Niceqoq-0bZ2",
        "outputId": "81b472f9-2df5-4b40-cbd6-ba925f29000c"
      },
      "execution_count": 111,
      "outputs": [
        {
          "output_type": "execute_result",
          "data": {
            "text/plain": [
              "LinearRegressionModelV2(\n",
              "  (linear_layer): Linear(in_features=2, out_features=1, bias=True)\n",
              ")"
            ]
          },
          "metadata": {},
          "execution_count": 111
        }
      ]
    },
    {
      "cell_type": "code",
      "source": [
        "#check the model current device\n",
        "next(model_1.parameters()).device"
      ],
      "metadata": {
        "colab": {
          "base_uri": "https://localhost:8080/"
        },
        "id": "M_6B83Qt1wKz",
        "outputId": "aa76bf25-1bb5-4fe5-b3be-d7c5e5b0c1cf"
      },
      "execution_count": 112,
      "outputs": [
        {
          "output_type": "execute_result",
          "data": {
            "text/plain": [
              "device(type='cpu')"
            ]
          },
          "metadata": {},
          "execution_count": 112
        }
      ]
    },
    {
      "cell_type": "code",
      "source": [
        "#set the model to use the target device\n",
        "model_1.to(device)"
      ],
      "metadata": {
        "colab": {
          "base_uri": "https://localhost:8080/"
        },
        "id": "wEVJKskY1XLS",
        "outputId": "a25f39d6-9fba-44b0-f281-bb59cfd48c76"
      },
      "execution_count": 113,
      "outputs": [
        {
          "output_type": "execute_result",
          "data": {
            "text/plain": [
              "LinearRegressionModelV2(\n",
              "  (linear_layer): Linear(in_features=2, out_features=1, bias=True)\n",
              ")"
            ]
          },
          "metadata": {},
          "execution_count": 113
        }
      ]
    },
    {
      "cell_type": "code",
      "source": [
        "next(model_1.parameters()).device"
      ],
      "metadata": {
        "colab": {
          "base_uri": "https://localhost:8080/"
        },
        "id": "gdPZDHST18EB",
        "outputId": "8b9976a7-a108-473f-8ec2-b28fff1546a5"
      },
      "execution_count": 114,
      "outputs": [
        {
          "output_type": "execute_result",
          "data": {
            "text/plain": [
              "device(type='cuda', index=0)"
            ]
          },
          "metadata": {},
          "execution_count": 114
        }
      ]
    },
    {
      "cell_type": "code",
      "source": [
        "model_1.state_dict()"
      ],
      "metadata": {
        "colab": {
          "base_uri": "https://localhost:8080/"
        },
        "id": "4JlCZUCl23bV",
        "outputId": "30a0065a-b32d-49b0-b53a-b5664a171359"
      },
      "execution_count": 115,
      "outputs": [
        {
          "output_type": "execute_result",
          "data": {
            "text/plain": [
              "OrderedDict([('linear_layer.weight',\n",
              "              tensor([[0.5406, 0.5869]], device='cuda:0')),\n",
              "             ('linear_layer.bias', tensor([-0.1657], device='cuda:0'))])"
            ]
          },
          "metadata": {},
          "execution_count": 115
        }
      ]
    },
    {
      "cell_type": "markdown",
      "source": [
        "###6.3 Training code\n",
        "\n",
        "For training, we need loss function, optimizer, training loop and a testing loop"
      ],
      "metadata": {
        "id": "_BMJSyZd1_jO"
      }
    },
    {
      "cell_type": "code",
      "source": [
        "#setup loss function\n",
        "loss_fn = nn.L1Loss() #MAE\n",
        "\n",
        "#setup optimizer\n",
        "optimizer = torch.optim.SGD(params=model_1.parameters(), lr=0.01)\n"
      ],
      "metadata": {
        "id": "ZzvaUt0j2Lwq"
      },
      "execution_count": 116,
      "outputs": []
    },
    {
      "cell_type": "code",
      "source": [
        "#Training loop\n",
        "torch.manual_seed(42)\n",
        "epochs=200\n",
        "\n",
        "#Put data on target device (device agnostic code for data)\n",
        "X_train = X_train.to(device)\n",
        "y_train = y_train.to(device)\n",
        "X_test = X_test.to(device)\n",
        "y_test = y_test.to(device)\n",
        "\n",
        "for epoch in range(epochs):\n",
        "  model_1.train()\n",
        "\n",
        "  #1.Forward pass\n",
        "  y_pred = model_1(X_train)\n",
        "\n",
        "  #2.Calculate the loss\n",
        "  train_loss = loss_fn(y_pred, y_train)\n",
        "\n",
        "  #3. Optimizer zero grad\n",
        "  optimizer.zero_grad()\n",
        "\n",
        "  #4. Back propagation\n",
        "  train_loss.backward()\n",
        "\n",
        "  #5.Optimizer step\n",
        "  optimizer.step()\n",
        "\n",
        "  ###Testing\n",
        "  model_1.eval()\n",
        "  with torch.inference_mode():\n",
        "    test_pred = model_1(X_test)\n",
        "    test_loss = loss_fn(test_pred, y_test)\n",
        "\n",
        "  #Print whats happening\n",
        "  if epoch%10==0:\n",
        "    print(f\"Epoch {epoch} | Train loss: {train_loss} | Test loss: {test_loss}\")\n"
      ],
      "metadata": {
        "colab": {
          "base_uri": "https://localhost:8080/"
        },
        "id": "v_SZ40FC2oBq",
        "outputId": "e7b5274d-8dd8-4f4b-abc4-2b9f049f1e49"
      },
      "execution_count": 117,
      "outputs": [
        {
          "output_type": "stream",
          "name": "stdout",
          "text": [
            "Epoch 0 | Train loss: 0.4443700313568115 | Test loss: 1.1829233169555664\n",
            "Epoch 10 | Train loss: 0.3216521441936493 | Test loss: 0.8868573307991028\n",
            "Epoch 20 | Train loss: 0.23642058670520782 | Test loss: 0.6406740546226501\n",
            "Epoch 30 | Train loss: 0.18678174912929535 | Test loss: 0.4593164622783661\n",
            "Epoch 40 | Train loss: 0.16142326593399048 | Test loss: 0.34391751885414124\n",
            "Epoch 50 | Train loss: 0.14628782868385315 | Test loss: 0.2787555754184723\n",
            "Epoch 60 | Train loss: 0.13373534381389618 | Test loss: 0.24021565914154053\n",
            "Epoch 70 | Train loss: 0.12154383957386017 | Test loss: 0.21783149242401123\n",
            "Epoch 80 | Train loss: 0.10938148945569992 | Test loss: 0.19544725120067596\n",
            "Epoch 90 | Train loss: 0.09721698611974716 | Test loss: 0.1730630248785019\n",
            "Epoch 100 | Train loss: 0.08504422008991241 | Test loss: 0.1506788432598114\n",
            "Epoch 110 | Train loss: 0.07287272065877914 | Test loss: 0.13060250878334045\n",
            "Epoch 120 | Train loss: 0.06071038171648979 | Test loss: 0.10821832716464996\n",
            "Epoch 130 | Train loss: 0.048548050224781036 | Test loss: 0.08583420515060425\n",
            "Epoch 140 | Train loss: 0.03638572618365288 | Test loss: 0.06345009058713913\n",
            "Epoch 150 | Train loss: 0.024223392829298973 | Test loss: 0.04106591269373894\n",
            "Epoch 160 | Train loss: 0.01206106785684824 | Test loss: 0.018681813031435013\n",
            "Epoch 170 | Train loss: 0.008117146790027618 | Test loss: 0.03083014488220215\n",
            "Epoch 180 | Train loss: 0.008117146790027618 | Test loss: 0.03083014488220215\n",
            "Epoch 190 | Train loss: 0.008117146790027618 | Test loss: 0.03083014488220215\n"
          ]
        }
      ]
    },
    {
      "cell_type": "code",
      "source": [
        "model_1.state_dict() #IDEAL weights= torch.Tensor([[0.1, 0.2]]) bias=0.1"
      ],
      "metadata": {
        "colab": {
          "base_uri": "https://localhost:8080/"
        },
        "id": "dsrZsxRG4KA2",
        "outputId": "2d33e680-ce24-47ff-aa72-6b72f4dfb5d9"
      },
      "execution_count": 118,
      "outputs": [
        {
          "output_type": "execute_result",
          "data": {
            "text/plain": [
              "OrderedDict([('linear_layer.weight',\n",
              "              tensor([[0.1246, 0.1761]], device='cuda:0')),\n",
              "             ('linear_layer.bias', tensor([0.0918], device='cuda:0'))])"
            ]
          },
          "metadata": {},
          "execution_count": 118
        }
      ]
    },
    {
      "cell_type": "markdown",
      "source": [
        "###6.4 Making and evaluating predictions"
      ],
      "metadata": {
        "id": "AQ1YkO1v5Bzj"
      }
    },
    {
      "cell_type": "code",
      "source": [
        "model_1.eval()\n",
        "with torch.inference_mode():\n",
        "  y_preds=model_1(X_test).to(device)\n",
        "y_preds"
      ],
      "metadata": {
        "colab": {
          "base_uri": "https://localhost:8080/"
        },
        "id": "B4ClEewo4Xie",
        "outputId": "b0fe8975-7179-416a-dc63-a70ec9c754c1"
      },
      "execution_count": 119,
      "outputs": [
        {
          "output_type": "execute_result",
          "data": {
            "text/plain": [
              "tensor([[0.5764],\n",
              "        [0.5885],\n",
              "        [0.6005],\n",
              "        [0.6125],\n",
              "        [0.6245],\n",
              "        [0.6366],\n",
              "        [0.6486],\n",
              "        [0.6606],\n",
              "        [0.6726],\n",
              "        [0.6847]], device='cuda:0')"
            ]
          },
          "metadata": {},
          "execution_count": 119
        }
      ]
    },
    {
      "cell_type": "code",
      "source": [
        "plot_predictions(predictions=y_preds.to(\"cpu\"))"
      ],
      "metadata": {
        "colab": {
          "base_uri": "https://localhost:8080/",
          "height": 576
        },
        "id": "ouyEvJ9G4q2v",
        "outputId": "054f68cd-ad42-4954-93b1-845887d2acb0"
      },
      "execution_count": 120,
      "outputs": [
        {
          "output_type": "display_data",
          "data": {
            "text/plain": [
              "<Figure size 1000x700 with 1 Axes>"
            ],
            "image/png": "[encoded data removed]"
          },
          "metadata": {}
        }
      ]
    },
    {
      "cell_type": "markdown",
      "source": [
        "### 6.5 Saving and loading a trained model"
      ],
      "metadata": {
        "id": "Eg3Bzfbs5w24"
      }
    },
    {
      "cell_type": "code",
      "source": [
        "from pathlib import Path\n",
        "\n",
        "#1. Create models directory\n",
        "MODEL_PATH = Path(\"models\")\n",
        "MODEL_PATH.mkdir(parents=True, exist_ok=True)\n",
        "\n",
        "#2.Create model save path\n",
        "MODEL_NAME = \"01_LINEAR_MULTI_model_1.pth\"\n",
        "MODEL_SAVE_PATH = MODEL_PATH/MODEL_NAME\n",
        "\n",
        "#3. Save the mdoel state dict\n",
        "print(f\"Saving model to {MODEL_SAVE_PATH}\")\n",
        "torch.save(obj=model_1.state_dict(), f=MODEL_SAVE_PATH)\n"
      ],
      "metadata": {
        "colab": {
          "base_uri": "https://localhost:8080/"
        },
        "id": "0sLYRqJD4t-Z",
        "outputId": "58e854e8-881f-4498-8547-3737a65bd544"
      },
      "execution_count": 121,
      "outputs": [
        {
          "output_type": "stream",
          "name": "stdout",
          "text": [
            "Saving model to models/01_LINEAR_MULTI_model_1.pth\n"
          ]
        }
      ]
    },
    {
      "cell_type": "code",
      "source": [
        "#Load a pytorch model\n",
        "\n",
        "#create a new instance of the model\n",
        "loaded_model_1 = LinearRegressionModelV2()\n",
        "\n",
        "#load the saved model_1 state dict\n",
        "loaded_model_1.load_state_dict(torch.load(f=MODEL_SAVE_PATH))\n",
        "\n",
        "#Put the target model to the device\n",
        "loaded_model_1.to(device)"
      ],
      "metadata": {
        "colab": {
          "base_uri": "https://localhost:8080/"
        },
        "id": "rjGADPCI6t-U",
        "outputId": "33a090c1-adb3-4a82-d698-c88cbcfc2317"
      },
      "execution_count": 122,
      "outputs": [
        {
          "output_type": "execute_result",
          "data": {
            "text/plain": [
              "LinearRegressionModelV2(\n",
              "  (linear_layer): Linear(in_features=2, out_features=1, bias=True)\n",
              ")"
            ]
          },
          "metadata": {},
          "execution_count": 122
        }
      ]
    },
    {
      "cell_type": "code",
      "source": [
        "next(loaded_model_1.parameters()).device"
      ],
      "metadata": {
        "colab": {
          "base_uri": "https://localhost:8080/"
        },
        "id": "EMlV4KBk7TZW",
        "outputId": "65c4ff12-e6ed-4c32-b9e2-04f06a7596e2"
      },
      "execution_count": 123,
      "outputs": [
        {
          "output_type": "execute_result",
          "data": {
            "text/plain": [
              "device(type='cuda', index=0)"
            ]
          },
          "metadata": {},
          "execution_count": 123
        }
      ]
    },
    {
      "cell_type": "code",
      "source": [
        "loaded_model_1.state_dict()"
      ],
      "metadata": {
        "colab": {
          "base_uri": "https://localhost:8080/"
        },
        "id": "AWC2vqJN7Y3B",
        "outputId": "db699675-b1d7-4ab3-ea05-bb692cc2c4b4"
      },
      "execution_count": 124,
      "outputs": [
        {
          "output_type": "execute_result",
          "data": {
            "text/plain": [
              "OrderedDict([('linear_layer.weight',\n",
              "              tensor([[0.1246, 0.1761]], device='cuda:0')),\n",
              "             ('linear_layer.bias', tensor([0.0918], device='cuda:0'))])"
            ]
          },
          "metadata": {},
          "execution_count": 124
        }
      ]
    },
    {
      "cell_type": "code",
      "source": [
        "loaded_model_1.eval()\n",
        "with torch.inference_mode():\n",
        "  loaded_y_preds = loaded_model_1(X_test)\n",
        "loaded_y_preds\n"
      ],
      "metadata": {
        "colab": {
          "base_uri": "https://localhost:8080/"
        },
        "id": "LUu5WsLi7bFF",
        "outputId": "1ba9c0ad-994d-4244-facc-0b9659395258"
      },
      "execution_count": 125,
      "outputs": [
        {
          "output_type": "execute_result",
          "data": {
            "text/plain": [
              "tensor([[0.5764],\n",
              "        [0.5885],\n",
              "        [0.6005],\n",
              "        [0.6125],\n",
              "        [0.6245],\n",
              "        [0.6366],\n",
              "        [0.6486],\n",
              "        [0.6606],\n",
              "        [0.6726],\n",
              "        [0.6847]], device='cuda:0')"
            ]
          },
          "metadata": {},
          "execution_count": 125
        }
      ]
    },
    {
      "cell_type": "code",
      "source": [
        "y_preds == loaded_y_preds"
      ],
      "metadata": {
        "colab": {
          "base_uri": "https://localhost:8080/"
        },
        "id": "hRAiiuI37pTM",
        "outputId": "a00f1046-8050-4147-85ee-33177c692854"
      },
      "execution_count": 126,
      "outputs": [
        {
          "output_type": "execute_result",
          "data": {
            "text/plain": [
              "tensor([[True],\n",
              "        [True],\n",
              "        [True],\n",
              "        [True],\n",
              "        [True],\n",
              "        [True],\n",
              "        [True],\n",
              "        [True],\n",
              "        [True],\n",
              "        [True]], device='cuda:0')"
            ]
          },
          "metadata": {},
          "execution_count": 126
        }
      ]
    },
    {
      "cell_type": "code",
      "source": [],
      "metadata": {
        "id": "_0p67KMp7x-2"
      },
      "execution_count": 126,
      "outputs": []
    }
  ]
}